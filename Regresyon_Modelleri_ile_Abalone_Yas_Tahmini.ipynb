{
 "cells": [
  {
   "cell_type": "markdown",
   "id": "bc3ee721",
   "metadata": {
    "slideshow": {
     "slide_type": ""
    },
    "tags": []
   },
   "source": [
    "# Deniz Kulağı (Abalone) Yaş Tahmini  \n",
    "\n",
    "   &ensp;<sup>Edanur Yılmaz (121521014)</sup>  \n",
    "   &ensp;<sup>24.11.2024</sup>"
   ]
  },
  {
   "cell_type": "markdown",
   "id": "fb467689",
   "metadata": {},
   "source": [
    "## İçerik\n",
    "• [Veri İncelemesi ve Ön İşlemesi](#Veri-İncelemesi-ve-Ön-İşlemesi)  \n",
    "• [Basit Doğrusal Regresyon](#1.Basit-Doğrusal-Regresyon)    \n",
    "• [Çoklu Doğrusal Regresyon](#2.Çoklu-Doğrusal-Regresyon)    \n",
    "    &emsp;- [Özellik Eliminasyonu (Feature Selection)](#2.1.Özellik-Eliminasyonu-(Feature-Selection))   \n",
    "    &emsp;- [K-Fold](#2.2.K-Fold)  \n",
    "    &emsp;- [Grid Search Cross-Validation ile Hiperparametre Ayarlama](#2.3.Grid-Search-Cross-Validation-ile-Hiperparametre-Ayarlama)    \n",
    "• [Çoklu Doğrusal Olmayan Regresyon (MLPRegressor)](#3.Çoklu-Doğrusal-Olmayan-Regresyon)    \n",
    "    &emsp;- [Grid Search Cross-Validation ile Hiperparametre Ayarlama](#3.1.Grid-Search-Cross-Validation-ile-Hiperparametre-Ayarlama)    \n",
    "• [K-En Yakın Komşular Algoritması](#4.K-En-Yakın-Komşular-Algoritması)  \n",
    "    &emsp;- [Grid Search Cross-Validation ile Hiperparametre Ayarlama](#4.1.Grid-Search-Cross-Validation-ile-Hiperparametre-Ayarlama)"
   ]
  },
  {
   "cell_type": "markdown",
   "id": "5c8fee6a",
   "metadata": {},
   "source": [
    "#### Gerekli Kütüphaneler\n",
    "Kullanacağımız kütüphaneleri ve belirli paketleri(kütüphane ve modülden) ekliyoruz."
   ]
  },
  {
   "cell_type": "code",
   "execution_count": 1,
   "id": "cd8ed8da",
   "metadata": {},
   "outputs": [],
   "source": [
    "import pandas as pd\n",
    "import numpy as np\n",
    "import random\n",
    "import missingno as msno\n",
    "import seaborn as sns\n",
    "import matplotlib.pyplot as plt\n",
    "from sklearn.model_selection import train_test_split, cross_val_score, KFold, GridSearchCV\n",
    "from sklearn.preprocessing import MinMaxScaler, StandardScaler\n",
    "from sklearn.linear_model import LinearRegression\n",
    "from sklearn.metrics import mean_squared_error, r2_score\n",
    "from sklearn.feature_selection import RFE\n",
    "from sklearn.neural_network import MLPRegressor\n",
    "from sklearn.neighbors import KNeighborsRegressor"
   ]
  },
  {
   "cell_type": "markdown",
   "id": "42e6525f",
   "metadata": {
    "slideshow": {
     "slide_type": ""
    },
    "tags": []
   },
   "source": [
    "### Veri İncelemesi ve Ön İşlemesi  \n",
    "&nbsp;<sup>[İçeriğe git.](#İçerik)</sup>"
   ]
  },
  {
   "cell_type": "markdown",
   "id": "97fdc7ea",
   "metadata": {},
   "source": [
    "Kullanılan veri seti: [Abalone Dataset by Rodolfo Mendes](https://www.kaggle.com/datasets/rodolfomendes/abalone-dataset) \n",
    "\n",
    "Kaynak: [Abalone - UCI Machine Learning Repository](https://archive.ics.uci.edu/dataset/1/abalone)\n",
    "\n",
    "<sup>Warwick J Nash, Tracy L Sellers, Simon R Talbot, Andrew J Cawthorn and Wes B Ford (1994) \n",
    "\"The Population Biology of Abalone (Haliotis species) in Tasmania. I. Blacklip Abalone (H. rubra) from the North Coast and Islands of Bass Strait\", Sea Fisheries Division,   \n",
    "Technical Report No. 48 (ISSN 1034-3288)</sup>"
   ]
  },
  {
   "cell_type": "code",
   "execution_count": 2,
   "id": "0319da43",
   "metadata": {},
   "outputs": [],
   "source": [
    "abalone_data = pd.read_csv(\"abalone.csv\")"
   ]
  },
  {
   "cell_type": "markdown",
   "id": "1a9f979f",
   "metadata": {},
   "source": [
    "Veri setinin; 1 'object', 6 'float64', 1 de 'int64' veri tipinde 8 farklı değişkenden oluştuğunu ve kayıp gözlem bulundurmadığını görebiliyoruz."
   ]
  },
  {
   "cell_type": "code",
   "execution_count": 3,
   "id": "3786b4a2",
   "metadata": {
    "scrolled": true
   },
   "outputs": [
    {
     "name": "stdout",
     "output_type": "stream",
     "text": [
      "<class 'pandas.core.frame.DataFrame'>\n",
      "RangeIndex: 4177 entries, 0 to 4176\n",
      "Data columns (total 9 columns):\n",
      " #   Column          Non-Null Count  Dtype  \n",
      "---  ------          --------------  -----  \n",
      " 0   Sex             4177 non-null   object \n",
      " 1   Length          4177 non-null   float64\n",
      " 2   Diameter        4177 non-null   float64\n",
      " 3   Height          4177 non-null   float64\n",
      " 4   Whole weight    4177 non-null   float64\n",
      " 5   Shucked weight  4177 non-null   float64\n",
      " 6   Viscera weight  4177 non-null   float64\n",
      " 7   Shell weight    4177 non-null   float64\n",
      " 8   Rings           4177 non-null   int64  \n",
      "dtypes: float64(7), int64(1), object(1)\n",
      "memory usage: 293.8+ KB\n"
     ]
    }
   ],
   "source": [
    "abalone_data.info()"
   ]
  },
  {
   "cell_type": "markdown",
   "id": "1620b4e5",
   "metadata": {},
   "source": [
    "Veriyi setinin, cinsiyet('M', 'F', 'I')('I' burada infant yani bebek anlamındadır.), uzunluk, çap, yükseklik, tam ağırlık, soyulmuş ağırlık, iç organ ağırlığı, kabuk ağırlığı, halka sayısı(1.5 eklendiğinde yıl olarak yaşı vermektedir.) değişkenlerinden oluştuğunu görebiliyoruz."
   ]
  },
  {
   "cell_type": "code",
   "execution_count": 4,
   "id": "7f6b75f8",
   "metadata": {},
   "outputs": [
    {
     "data": {
      "text/html": [
       "<div>\n",
       "<style scoped>\n",
       "    .dataframe tbody tr th:only-of-type {\n",
       "        vertical-align: middle;\n",
       "    }\n",
       "\n",
       "    .dataframe tbody tr th {\n",
       "        vertical-align: top;\n",
       "    }\n",
       "\n",
       "    .dataframe thead th {\n",
       "        text-align: right;\n",
       "    }\n",
       "</style>\n",
       "<table border=\"1\" class=\"dataframe\">\n",
       "  <thead>\n",
       "    <tr style=\"text-align: right;\">\n",
       "      <th></th>\n",
       "      <th>Sex</th>\n",
       "      <th>Length</th>\n",
       "      <th>Diameter</th>\n",
       "      <th>Height</th>\n",
       "      <th>Whole weight</th>\n",
       "      <th>Shucked weight</th>\n",
       "      <th>Viscera weight</th>\n",
       "      <th>Shell weight</th>\n",
       "      <th>Rings</th>\n",
       "    </tr>\n",
       "  </thead>\n",
       "  <tbody>\n",
       "    <tr>\n",
       "      <th>0</th>\n",
       "      <td>M</td>\n",
       "      <td>0.455</td>\n",
       "      <td>0.365</td>\n",
       "      <td>0.095</td>\n",
       "      <td>0.5140</td>\n",
       "      <td>0.2245</td>\n",
       "      <td>0.1010</td>\n",
       "      <td>0.1500</td>\n",
       "      <td>15</td>\n",
       "    </tr>\n",
       "    <tr>\n",
       "      <th>1</th>\n",
       "      <td>M</td>\n",
       "      <td>0.350</td>\n",
       "      <td>0.265</td>\n",
       "      <td>0.090</td>\n",
       "      <td>0.2255</td>\n",
       "      <td>0.0995</td>\n",
       "      <td>0.0485</td>\n",
       "      <td>0.0700</td>\n",
       "      <td>7</td>\n",
       "    </tr>\n",
       "    <tr>\n",
       "      <th>2</th>\n",
       "      <td>F</td>\n",
       "      <td>0.530</td>\n",
       "      <td>0.420</td>\n",
       "      <td>0.135</td>\n",
       "      <td>0.6770</td>\n",
       "      <td>0.2565</td>\n",
       "      <td>0.1415</td>\n",
       "      <td>0.2100</td>\n",
       "      <td>9</td>\n",
       "    </tr>\n",
       "    <tr>\n",
       "      <th>3</th>\n",
       "      <td>M</td>\n",
       "      <td>0.440</td>\n",
       "      <td>0.365</td>\n",
       "      <td>0.125</td>\n",
       "      <td>0.5160</td>\n",
       "      <td>0.2155</td>\n",
       "      <td>0.1140</td>\n",
       "      <td>0.1550</td>\n",
       "      <td>10</td>\n",
       "    </tr>\n",
       "    <tr>\n",
       "      <th>4</th>\n",
       "      <td>I</td>\n",
       "      <td>0.330</td>\n",
       "      <td>0.255</td>\n",
       "      <td>0.080</td>\n",
       "      <td>0.2050</td>\n",
       "      <td>0.0895</td>\n",
       "      <td>0.0395</td>\n",
       "      <td>0.0550</td>\n",
       "      <td>7</td>\n",
       "    </tr>\n",
       "    <tr>\n",
       "      <th>...</th>\n",
       "      <td>...</td>\n",
       "      <td>...</td>\n",
       "      <td>...</td>\n",
       "      <td>...</td>\n",
       "      <td>...</td>\n",
       "      <td>...</td>\n",
       "      <td>...</td>\n",
       "      <td>...</td>\n",
       "      <td>...</td>\n",
       "    </tr>\n",
       "    <tr>\n",
       "      <th>4172</th>\n",
       "      <td>F</td>\n",
       "      <td>0.565</td>\n",
       "      <td>0.450</td>\n",
       "      <td>0.165</td>\n",
       "      <td>0.8870</td>\n",
       "      <td>0.3700</td>\n",
       "      <td>0.2390</td>\n",
       "      <td>0.2490</td>\n",
       "      <td>11</td>\n",
       "    </tr>\n",
       "    <tr>\n",
       "      <th>4173</th>\n",
       "      <td>M</td>\n",
       "      <td>0.590</td>\n",
       "      <td>0.440</td>\n",
       "      <td>0.135</td>\n",
       "      <td>0.9660</td>\n",
       "      <td>0.4390</td>\n",
       "      <td>0.2145</td>\n",
       "      <td>0.2605</td>\n",
       "      <td>10</td>\n",
       "    </tr>\n",
       "    <tr>\n",
       "      <th>4174</th>\n",
       "      <td>M</td>\n",
       "      <td>0.600</td>\n",
       "      <td>0.475</td>\n",
       "      <td>0.205</td>\n",
       "      <td>1.1760</td>\n",
       "      <td>0.5255</td>\n",
       "      <td>0.2875</td>\n",
       "      <td>0.3080</td>\n",
       "      <td>9</td>\n",
       "    </tr>\n",
       "    <tr>\n",
       "      <th>4175</th>\n",
       "      <td>F</td>\n",
       "      <td>0.625</td>\n",
       "      <td>0.485</td>\n",
       "      <td>0.150</td>\n",
       "      <td>1.0945</td>\n",
       "      <td>0.5310</td>\n",
       "      <td>0.2610</td>\n",
       "      <td>0.2960</td>\n",
       "      <td>10</td>\n",
       "    </tr>\n",
       "    <tr>\n",
       "      <th>4176</th>\n",
       "      <td>M</td>\n",
       "      <td>0.710</td>\n",
       "      <td>0.555</td>\n",
       "      <td>0.195</td>\n",
       "      <td>1.9485</td>\n",
       "      <td>0.9455</td>\n",
       "      <td>0.3765</td>\n",
       "      <td>0.4950</td>\n",
       "      <td>12</td>\n",
       "    </tr>\n",
       "  </tbody>\n",
       "</table>\n",
       "<p>4177 rows × 9 columns</p>\n",
       "</div>"
      ],
      "text/plain": [
       "     Sex  Length  Diameter  Height  Whole weight  Shucked weight  \\\n",
       "0      M   0.455     0.365   0.095        0.5140          0.2245   \n",
       "1      M   0.350     0.265   0.090        0.2255          0.0995   \n",
       "2      F   0.530     0.420   0.135        0.6770          0.2565   \n",
       "3      M   0.440     0.365   0.125        0.5160          0.2155   \n",
       "4      I   0.330     0.255   0.080        0.2050          0.0895   \n",
       "...   ..     ...       ...     ...           ...             ...   \n",
       "4172   F   0.565     0.450   0.165        0.8870          0.3700   \n",
       "4173   M   0.590     0.440   0.135        0.9660          0.4390   \n",
       "4174   M   0.600     0.475   0.205        1.1760          0.5255   \n",
       "4175   F   0.625     0.485   0.150        1.0945          0.5310   \n",
       "4176   M   0.710     0.555   0.195        1.9485          0.9455   \n",
       "\n",
       "      Viscera weight  Shell weight  Rings  \n",
       "0             0.1010        0.1500     15  \n",
       "1             0.0485        0.0700      7  \n",
       "2             0.1415        0.2100      9  \n",
       "3             0.1140        0.1550     10  \n",
       "4             0.0395        0.0550      7  \n",
       "...              ...           ...    ...  \n",
       "4172          0.2390        0.2490     11  \n",
       "4173          0.2145        0.2605     10  \n",
       "4174          0.2875        0.3080      9  \n",
       "4175          0.2610        0.2960     10  \n",
       "4176          0.3765        0.4950     12  \n",
       "\n",
       "[4177 rows x 9 columns]"
      ]
     },
     "execution_count": 4,
     "metadata": {},
     "output_type": "execute_result"
    }
   ],
   "source": [
    "abalone_data"
   ]
  },
  {
   "cell_type": "markdown",
   "id": "90c9e29f",
   "metadata": {},
   "source": [
    "Halka sayısı tahmini değil yaş tahmini olarak tanımlamak istediğim için halka sayısına 1.5 ekleyerek bir yaş sütunu oluşturuyorum."
   ]
  },
  {
   "cell_type": "code",
   "execution_count": 5,
   "id": "5e3f3ff0",
   "metadata": {},
   "outputs": [],
   "source": [
    "abalone_data[\"value\"] = 1.5\n",
    "abalone_data[\"Rings\"] = abalone_data[\"Rings\"] + abalone_data[\"value\"]\n",
    "abalone_data.drop(\"value\", axis='columns', inplace=True)\n",
    "abalone_data = abalone_data.rename({\"Rings\":\"Age\"}, axis='columns')"
   ]
  },
  {
   "cell_type": "code",
   "execution_count": 6,
   "id": "dded34be",
   "metadata": {},
   "outputs": [
    {
     "data": {
      "text/html": [
       "<div>\n",
       "<style scoped>\n",
       "    .dataframe tbody tr th:only-of-type {\n",
       "        vertical-align: middle;\n",
       "    }\n",
       "\n",
       "    .dataframe tbody tr th {\n",
       "        vertical-align: top;\n",
       "    }\n",
       "\n",
       "    .dataframe thead th {\n",
       "        text-align: right;\n",
       "    }\n",
       "</style>\n",
       "<table border=\"1\" class=\"dataframe\">\n",
       "  <thead>\n",
       "    <tr style=\"text-align: right;\">\n",
       "      <th></th>\n",
       "      <th>Sex</th>\n",
       "      <th>Length</th>\n",
       "      <th>Diameter</th>\n",
       "      <th>Height</th>\n",
       "      <th>Whole weight</th>\n",
       "      <th>Shucked weight</th>\n",
       "      <th>Viscera weight</th>\n",
       "      <th>Shell weight</th>\n",
       "      <th>Age</th>\n",
       "    </tr>\n",
       "  </thead>\n",
       "  <tbody>\n",
       "    <tr>\n",
       "      <th>0</th>\n",
       "      <td>M</td>\n",
       "      <td>0.455</td>\n",
       "      <td>0.365</td>\n",
       "      <td>0.095</td>\n",
       "      <td>0.5140</td>\n",
       "      <td>0.2245</td>\n",
       "      <td>0.1010</td>\n",
       "      <td>0.1500</td>\n",
       "      <td>16.5</td>\n",
       "    </tr>\n",
       "    <tr>\n",
       "      <th>1</th>\n",
       "      <td>M</td>\n",
       "      <td>0.350</td>\n",
       "      <td>0.265</td>\n",
       "      <td>0.090</td>\n",
       "      <td>0.2255</td>\n",
       "      <td>0.0995</td>\n",
       "      <td>0.0485</td>\n",
       "      <td>0.0700</td>\n",
       "      <td>8.5</td>\n",
       "    </tr>\n",
       "    <tr>\n",
       "      <th>2</th>\n",
       "      <td>F</td>\n",
       "      <td>0.530</td>\n",
       "      <td>0.420</td>\n",
       "      <td>0.135</td>\n",
       "      <td>0.6770</td>\n",
       "      <td>0.2565</td>\n",
       "      <td>0.1415</td>\n",
       "      <td>0.2100</td>\n",
       "      <td>10.5</td>\n",
       "    </tr>\n",
       "    <tr>\n",
       "      <th>3</th>\n",
       "      <td>M</td>\n",
       "      <td>0.440</td>\n",
       "      <td>0.365</td>\n",
       "      <td>0.125</td>\n",
       "      <td>0.5160</td>\n",
       "      <td>0.2155</td>\n",
       "      <td>0.1140</td>\n",
       "      <td>0.1550</td>\n",
       "      <td>11.5</td>\n",
       "    </tr>\n",
       "    <tr>\n",
       "      <th>4</th>\n",
       "      <td>I</td>\n",
       "      <td>0.330</td>\n",
       "      <td>0.255</td>\n",
       "      <td>0.080</td>\n",
       "      <td>0.2050</td>\n",
       "      <td>0.0895</td>\n",
       "      <td>0.0395</td>\n",
       "      <td>0.0550</td>\n",
       "      <td>8.5</td>\n",
       "    </tr>\n",
       "    <tr>\n",
       "      <th>...</th>\n",
       "      <td>...</td>\n",
       "      <td>...</td>\n",
       "      <td>...</td>\n",
       "      <td>...</td>\n",
       "      <td>...</td>\n",
       "      <td>...</td>\n",
       "      <td>...</td>\n",
       "      <td>...</td>\n",
       "      <td>...</td>\n",
       "    </tr>\n",
       "    <tr>\n",
       "      <th>4172</th>\n",
       "      <td>F</td>\n",
       "      <td>0.565</td>\n",
       "      <td>0.450</td>\n",
       "      <td>0.165</td>\n",
       "      <td>0.8870</td>\n",
       "      <td>0.3700</td>\n",
       "      <td>0.2390</td>\n",
       "      <td>0.2490</td>\n",
       "      <td>12.5</td>\n",
       "    </tr>\n",
       "    <tr>\n",
       "      <th>4173</th>\n",
       "      <td>M</td>\n",
       "      <td>0.590</td>\n",
       "      <td>0.440</td>\n",
       "      <td>0.135</td>\n",
       "      <td>0.9660</td>\n",
       "      <td>0.4390</td>\n",
       "      <td>0.2145</td>\n",
       "      <td>0.2605</td>\n",
       "      <td>11.5</td>\n",
       "    </tr>\n",
       "    <tr>\n",
       "      <th>4174</th>\n",
       "      <td>M</td>\n",
       "      <td>0.600</td>\n",
       "      <td>0.475</td>\n",
       "      <td>0.205</td>\n",
       "      <td>1.1760</td>\n",
       "      <td>0.5255</td>\n",
       "      <td>0.2875</td>\n",
       "      <td>0.3080</td>\n",
       "      <td>10.5</td>\n",
       "    </tr>\n",
       "    <tr>\n",
       "      <th>4175</th>\n",
       "      <td>F</td>\n",
       "      <td>0.625</td>\n",
       "      <td>0.485</td>\n",
       "      <td>0.150</td>\n",
       "      <td>1.0945</td>\n",
       "      <td>0.5310</td>\n",
       "      <td>0.2610</td>\n",
       "      <td>0.2960</td>\n",
       "      <td>11.5</td>\n",
       "    </tr>\n",
       "    <tr>\n",
       "      <th>4176</th>\n",
       "      <td>M</td>\n",
       "      <td>0.710</td>\n",
       "      <td>0.555</td>\n",
       "      <td>0.195</td>\n",
       "      <td>1.9485</td>\n",
       "      <td>0.9455</td>\n",
       "      <td>0.3765</td>\n",
       "      <td>0.4950</td>\n",
       "      <td>13.5</td>\n",
       "    </tr>\n",
       "  </tbody>\n",
       "</table>\n",
       "<p>4177 rows × 9 columns</p>\n",
       "</div>"
      ],
      "text/plain": [
       "     Sex  Length  Diameter  Height  Whole weight  Shucked weight  \\\n",
       "0      M   0.455     0.365   0.095        0.5140          0.2245   \n",
       "1      M   0.350     0.265   0.090        0.2255          0.0995   \n",
       "2      F   0.530     0.420   0.135        0.6770          0.2565   \n",
       "3      M   0.440     0.365   0.125        0.5160          0.2155   \n",
       "4      I   0.330     0.255   0.080        0.2050          0.0895   \n",
       "...   ..     ...       ...     ...           ...             ...   \n",
       "4172   F   0.565     0.450   0.165        0.8870          0.3700   \n",
       "4173   M   0.590     0.440   0.135        0.9660          0.4390   \n",
       "4174   M   0.600     0.475   0.205        1.1760          0.5255   \n",
       "4175   F   0.625     0.485   0.150        1.0945          0.5310   \n",
       "4176   M   0.710     0.555   0.195        1.9485          0.9455   \n",
       "\n",
       "      Viscera weight  Shell weight   Age  \n",
       "0             0.1010        0.1500  16.5  \n",
       "1             0.0485        0.0700   8.5  \n",
       "2             0.1415        0.2100  10.5  \n",
       "3             0.1140        0.1550  11.5  \n",
       "4             0.0395        0.0550   8.5  \n",
       "...              ...           ...   ...  \n",
       "4172          0.2390        0.2490  12.5  \n",
       "4173          0.2145        0.2605  11.5  \n",
       "4174          0.2875        0.3080  10.5  \n",
       "4175          0.2610        0.2960  11.5  \n",
       "4176          0.3765        0.4950  13.5  \n",
       "\n",
       "[4177 rows x 9 columns]"
      ]
     },
     "execution_count": 6,
     "metadata": {},
     "output_type": "execute_result"
    }
   ],
   "source": [
    "abalone_data"
   ]
  },
  {
   "cell_type": "markdown",
   "id": "26876b5a",
   "metadata": {},
   "source": [
    "Cinsiyet değişkeninin 'object' olduğunu biliyoruz. Aldığı değerlere bakalım."
   ]
  },
  {
   "cell_type": "code",
   "execution_count": 7,
   "id": "9ff9b039",
   "metadata": {
    "scrolled": true
   },
   "outputs": [
    {
     "data": {
      "text/plain": [
       "array(['M', 'F', 'I'], dtype=object)"
      ]
     },
     "execution_count": 7,
     "metadata": {},
     "output_type": "execute_result"
    }
   ],
   "source": [
    "abalone_data[\"Sex\"].unique() # I: Infant"
   ]
  },
  {
   "cell_type": "markdown",
   "id": "640dd753",
   "metadata": {},
   "source": [
    "Cinsiyet değişkeninin aldığı değerlere karşılık gelen sayısal değerler atıyoruz.   \n",
    "(Sayısal değer ataması daha zor olan bir durum olsaydı panda kütüphanesindeki 'get.dummies' fonksiyonunu kullanabilirdik.)"
   ]
  },
  {
   "cell_type": "code",
   "execution_count": 8,
   "id": "f7bb4a66",
   "metadata": {},
   "outputs": [],
   "source": [
    "def binary_map(x):\n",
    "    return x.map({\"M\" : 1,\n",
    "                  \"F\" : 2,\n",
    "                  \"I\" : 3})"
   ]
  },
  {
   "cell_type": "code",
   "execution_count": 9,
   "id": "4f2b0326",
   "metadata": {},
   "outputs": [],
   "source": [
    "abalone_data[\"Sex\"] = binary_map(abalone_data[\"Sex\"])"
   ]
  },
  {
   "cell_type": "code",
   "execution_count": 10,
   "id": "07d98955",
   "metadata": {},
   "outputs": [
    {
     "data": {
      "text/html": [
       "<div>\n",
       "<style scoped>\n",
       "    .dataframe tbody tr th:only-of-type {\n",
       "        vertical-align: middle;\n",
       "    }\n",
       "\n",
       "    .dataframe tbody tr th {\n",
       "        vertical-align: top;\n",
       "    }\n",
       "\n",
       "    .dataframe thead th {\n",
       "        text-align: right;\n",
       "    }\n",
       "</style>\n",
       "<table border=\"1\" class=\"dataframe\">\n",
       "  <thead>\n",
       "    <tr style=\"text-align: right;\">\n",
       "      <th></th>\n",
       "      <th>Sex</th>\n",
       "      <th>Length</th>\n",
       "      <th>Diameter</th>\n",
       "      <th>Height</th>\n",
       "      <th>Whole weight</th>\n",
       "      <th>Shucked weight</th>\n",
       "      <th>Viscera weight</th>\n",
       "      <th>Shell weight</th>\n",
       "      <th>Age</th>\n",
       "    </tr>\n",
       "  </thead>\n",
       "  <tbody>\n",
       "    <tr>\n",
       "      <th>0</th>\n",
       "      <td>1</td>\n",
       "      <td>0.455</td>\n",
       "      <td>0.365</td>\n",
       "      <td>0.095</td>\n",
       "      <td>0.5140</td>\n",
       "      <td>0.2245</td>\n",
       "      <td>0.1010</td>\n",
       "      <td>0.1500</td>\n",
       "      <td>16.5</td>\n",
       "    </tr>\n",
       "    <tr>\n",
       "      <th>1</th>\n",
       "      <td>1</td>\n",
       "      <td>0.350</td>\n",
       "      <td>0.265</td>\n",
       "      <td>0.090</td>\n",
       "      <td>0.2255</td>\n",
       "      <td>0.0995</td>\n",
       "      <td>0.0485</td>\n",
       "      <td>0.0700</td>\n",
       "      <td>8.5</td>\n",
       "    </tr>\n",
       "    <tr>\n",
       "      <th>2</th>\n",
       "      <td>2</td>\n",
       "      <td>0.530</td>\n",
       "      <td>0.420</td>\n",
       "      <td>0.135</td>\n",
       "      <td>0.6770</td>\n",
       "      <td>0.2565</td>\n",
       "      <td>0.1415</td>\n",
       "      <td>0.2100</td>\n",
       "      <td>10.5</td>\n",
       "    </tr>\n",
       "    <tr>\n",
       "      <th>3</th>\n",
       "      <td>1</td>\n",
       "      <td>0.440</td>\n",
       "      <td>0.365</td>\n",
       "      <td>0.125</td>\n",
       "      <td>0.5160</td>\n",
       "      <td>0.2155</td>\n",
       "      <td>0.1140</td>\n",
       "      <td>0.1550</td>\n",
       "      <td>11.5</td>\n",
       "    </tr>\n",
       "    <tr>\n",
       "      <th>4</th>\n",
       "      <td>3</td>\n",
       "      <td>0.330</td>\n",
       "      <td>0.255</td>\n",
       "      <td>0.080</td>\n",
       "      <td>0.2050</td>\n",
       "      <td>0.0895</td>\n",
       "      <td>0.0395</td>\n",
       "      <td>0.0550</td>\n",
       "      <td>8.5</td>\n",
       "    </tr>\n",
       "    <tr>\n",
       "      <th>...</th>\n",
       "      <td>...</td>\n",
       "      <td>...</td>\n",
       "      <td>...</td>\n",
       "      <td>...</td>\n",
       "      <td>...</td>\n",
       "      <td>...</td>\n",
       "      <td>...</td>\n",
       "      <td>...</td>\n",
       "      <td>...</td>\n",
       "    </tr>\n",
       "    <tr>\n",
       "      <th>4172</th>\n",
       "      <td>2</td>\n",
       "      <td>0.565</td>\n",
       "      <td>0.450</td>\n",
       "      <td>0.165</td>\n",
       "      <td>0.8870</td>\n",
       "      <td>0.3700</td>\n",
       "      <td>0.2390</td>\n",
       "      <td>0.2490</td>\n",
       "      <td>12.5</td>\n",
       "    </tr>\n",
       "    <tr>\n",
       "      <th>4173</th>\n",
       "      <td>1</td>\n",
       "      <td>0.590</td>\n",
       "      <td>0.440</td>\n",
       "      <td>0.135</td>\n",
       "      <td>0.9660</td>\n",
       "      <td>0.4390</td>\n",
       "      <td>0.2145</td>\n",
       "      <td>0.2605</td>\n",
       "      <td>11.5</td>\n",
       "    </tr>\n",
       "    <tr>\n",
       "      <th>4174</th>\n",
       "      <td>1</td>\n",
       "      <td>0.600</td>\n",
       "      <td>0.475</td>\n",
       "      <td>0.205</td>\n",
       "      <td>1.1760</td>\n",
       "      <td>0.5255</td>\n",
       "      <td>0.2875</td>\n",
       "      <td>0.3080</td>\n",
       "      <td>10.5</td>\n",
       "    </tr>\n",
       "    <tr>\n",
       "      <th>4175</th>\n",
       "      <td>2</td>\n",
       "      <td>0.625</td>\n",
       "      <td>0.485</td>\n",
       "      <td>0.150</td>\n",
       "      <td>1.0945</td>\n",
       "      <td>0.5310</td>\n",
       "      <td>0.2610</td>\n",
       "      <td>0.2960</td>\n",
       "      <td>11.5</td>\n",
       "    </tr>\n",
       "    <tr>\n",
       "      <th>4176</th>\n",
       "      <td>1</td>\n",
       "      <td>0.710</td>\n",
       "      <td>0.555</td>\n",
       "      <td>0.195</td>\n",
       "      <td>1.9485</td>\n",
       "      <td>0.9455</td>\n",
       "      <td>0.3765</td>\n",
       "      <td>0.4950</td>\n",
       "      <td>13.5</td>\n",
       "    </tr>\n",
       "  </tbody>\n",
       "</table>\n",
       "<p>4177 rows × 9 columns</p>\n",
       "</div>"
      ],
      "text/plain": [
       "      Sex  Length  Diameter  Height  Whole weight  Shucked weight  \\\n",
       "0       1   0.455     0.365   0.095        0.5140          0.2245   \n",
       "1       1   0.350     0.265   0.090        0.2255          0.0995   \n",
       "2       2   0.530     0.420   0.135        0.6770          0.2565   \n",
       "3       1   0.440     0.365   0.125        0.5160          0.2155   \n",
       "4       3   0.330     0.255   0.080        0.2050          0.0895   \n",
       "...   ...     ...       ...     ...           ...             ...   \n",
       "4172    2   0.565     0.450   0.165        0.8870          0.3700   \n",
       "4173    1   0.590     0.440   0.135        0.9660          0.4390   \n",
       "4174    1   0.600     0.475   0.205        1.1760          0.5255   \n",
       "4175    2   0.625     0.485   0.150        1.0945          0.5310   \n",
       "4176    1   0.710     0.555   0.195        1.9485          0.9455   \n",
       "\n",
       "      Viscera weight  Shell weight   Age  \n",
       "0             0.1010        0.1500  16.5  \n",
       "1             0.0485        0.0700   8.5  \n",
       "2             0.1415        0.2100  10.5  \n",
       "3             0.1140        0.1550  11.5  \n",
       "4             0.0395        0.0550   8.5  \n",
       "...              ...           ...   ...  \n",
       "4172          0.2390        0.2490  12.5  \n",
       "4173          0.2145        0.2605  11.5  \n",
       "4174          0.2875        0.3080  10.5  \n",
       "4175          0.2610        0.2960  11.5  \n",
       "4176          0.3765        0.4950  13.5  \n",
       "\n",
       "[4177 rows x 9 columns]"
      ]
     },
     "execution_count": 10,
     "metadata": {},
     "output_type": "execute_result"
    }
   ],
   "source": [
    "abalone_data"
   ]
  },
  {
   "cell_type": "markdown",
   "id": "9b049025",
   "metadata": {},
   "source": [
    "Veri setinde kayıp gözlemimizin olmadığını biliyoruz."
   ]
  },
  {
   "cell_type": "code",
   "execution_count": 11,
   "id": "e0ca17f1",
   "metadata": {
    "scrolled": true
   },
   "outputs": [
    {
     "data": {
      "text/plain": [
       "Sex               0\n",
       "Length            0\n",
       "Diameter          0\n",
       "Height            0\n",
       "Whole weight      0\n",
       "Shucked weight    0\n",
       "Viscera weight    0\n",
       "Shell weight      0\n",
       "Age               0\n",
       "dtype: int64"
      ]
     },
     "execution_count": 11,
     "metadata": {},
     "output_type": "execute_result"
    }
   ],
   "source": [
    "abalone_data.isnull().sum()"
   ]
  },
  {
   "cell_type": "markdown",
   "id": "4f9487d8",
   "metadata": {},
   "source": [
    "Bütün veri setinin %1'i kadar değere NaN atıyorum."
   ]
  },
  {
   "cell_type": "code",
   "execution_count": 12,
   "id": "c78e8b2f",
   "metadata": {},
   "outputs": [],
   "source": [
    "xy = [(row, col) for row in range(abalone_data.shape[0]) for col in range(abalone_data.shape[1])]\n",
    "random.seed(121521014)\n",
    "for row, col in random.sample(xy, int(round(.01*len(xy)))):\n",
    "    abalone_data.iat[row, col] = np.nan"
   ]
  },
  {
   "cell_type": "code",
   "execution_count": 13,
   "id": "bc891a94",
   "metadata": {},
   "outputs": [
    {
     "data": {
      "text/plain": [
       "(Sex               37\n",
       " Length            52\n",
       " Diameter          44\n",
       " Height            37\n",
       " Whole weight      39\n",
       " Shucked weight    41\n",
       " Viscera weight    44\n",
       " Shell weight      39\n",
       " Age               43\n",
       " dtype: int64,\n",
       " 376)"
      ]
     },
     "execution_count": 13,
     "metadata": {},
     "output_type": "execute_result"
    }
   ],
   "source": [
    "abalone_data.isnull().sum(), abalone_data.isnull().sum().sum()"
   ]
  },
  {
   "cell_type": "code",
   "execution_count": 14,
   "id": "3914fe1d",
   "metadata": {},
   "outputs": [
    {
     "data": {
      "text/plain": [
       "<Axes: >"
      ]
     },
     "execution_count": 14,
     "metadata": {},
     "output_type": "execute_result"
    },
    {
     "data": {
      "image/png": "[encoded data removed]",
      "text/plain": [
       "<Figure size 2500x1000 with 2 Axes>"
      ]
     },
     "metadata": {},
     "output_type": "display_data"
    }
   ],
   "source": [
    "msno.matrix(abalone_data)"
   ]
  },
  {
   "cell_type": "markdown",
   "id": "893a6d22",
   "metadata": {},
   "source": [
    "Atadığımız NaN'lar rastegele olduğu için kayıp gözlemler arasında bir korelasyon olmasını beklemiyoruz."
   ]
  },
  {
   "cell_type": "code",
   "execution_count": 15,
   "id": "49c8e3f5",
   "metadata": {},
   "outputs": [
    {
     "data": {
      "text/plain": [
       "<Axes: >"
      ]
     },
     "execution_count": 15,
     "metadata": {},
     "output_type": "execute_result"
    },
    {
     "data": {
      "image/png": "[encoded data removed]",
      "text/plain": [
       "<Figure size 2000x1200 with 2 Axes>"
      ]
     },
     "metadata": {},
     "output_type": "display_data"
    }
   ],
   "source": [
    "msno.heatmap(abalone_data) "
   ]
  },
  {
   "cell_type": "markdown",
   "id": "a5269e85",
   "metadata": {},
   "source": [
    "Kayıp gözlemleri, her sütunun(değişkenin) kendi ortalaması ile dolduruyorum."
   ]
  },
  {
   "cell_type": "code",
   "execution_count": 16,
   "id": "d40e05a6",
   "metadata": {},
   "outputs": [
    {
     "data": {
      "text/html": [
       "<div>\n",
       "<style scoped>\n",
       "    .dataframe tbody tr th:only-of-type {\n",
       "        vertical-align: middle;\n",
       "    }\n",
       "\n",
       "    .dataframe tbody tr th {\n",
       "        vertical-align: top;\n",
       "    }\n",
       "\n",
       "    .dataframe thead th {\n",
       "        text-align: right;\n",
       "    }\n",
       "</style>\n",
       "<table border=\"1\" class=\"dataframe\">\n",
       "  <thead>\n",
       "    <tr style=\"text-align: right;\">\n",
       "      <th></th>\n",
       "      <th>Sex</th>\n",
       "      <th>Length</th>\n",
       "      <th>Diameter</th>\n",
       "      <th>Height</th>\n",
       "      <th>Whole weight</th>\n",
       "      <th>Shucked weight</th>\n",
       "      <th>Viscera weight</th>\n",
       "      <th>Shell weight</th>\n",
       "      <th>Age</th>\n",
       "    </tr>\n",
       "  </thead>\n",
       "  <tbody>\n",
       "    <tr>\n",
       "      <th>0</th>\n",
       "      <td>1.0</td>\n",
       "      <td>0.455</td>\n",
       "      <td>0.365</td>\n",
       "      <td>0.095</td>\n",
       "      <td>0.5140</td>\n",
       "      <td>0.2245</td>\n",
       "      <td>0.1010</td>\n",
       "      <td>0.1500</td>\n",
       "      <td>16.5</td>\n",
       "    </tr>\n",
       "    <tr>\n",
       "      <th>1</th>\n",
       "      <td>1.0</td>\n",
       "      <td>0.350</td>\n",
       "      <td>0.265</td>\n",
       "      <td>0.090</td>\n",
       "      <td>0.2255</td>\n",
       "      <td>0.0995</td>\n",
       "      <td>0.0485</td>\n",
       "      <td>0.0700</td>\n",
       "      <td>8.5</td>\n",
       "    </tr>\n",
       "    <tr>\n",
       "      <th>2</th>\n",
       "      <td>2.0</td>\n",
       "      <td>0.530</td>\n",
       "      <td>0.420</td>\n",
       "      <td>0.135</td>\n",
       "      <td>0.6770</td>\n",
       "      <td>0.2565</td>\n",
       "      <td>0.1415</td>\n",
       "      <td>0.2100</td>\n",
       "      <td>10.5</td>\n",
       "    </tr>\n",
       "    <tr>\n",
       "      <th>3</th>\n",
       "      <td>1.0</td>\n",
       "      <td>0.440</td>\n",
       "      <td>0.365</td>\n",
       "      <td>0.125</td>\n",
       "      <td>0.5160</td>\n",
       "      <td>0.2155</td>\n",
       "      <td>0.1140</td>\n",
       "      <td>0.1550</td>\n",
       "      <td>11.5</td>\n",
       "    </tr>\n",
       "    <tr>\n",
       "      <th>4</th>\n",
       "      <td>3.0</td>\n",
       "      <td>0.330</td>\n",
       "      <td>0.255</td>\n",
       "      <td>0.080</td>\n",
       "      <td>0.2050</td>\n",
       "      <td>0.0895</td>\n",
       "      <td>0.0395</td>\n",
       "      <td>0.0550</td>\n",
       "      <td>8.5</td>\n",
       "    </tr>\n",
       "    <tr>\n",
       "      <th>...</th>\n",
       "      <td>...</td>\n",
       "      <td>...</td>\n",
       "      <td>...</td>\n",
       "      <td>...</td>\n",
       "      <td>...</td>\n",
       "      <td>...</td>\n",
       "      <td>...</td>\n",
       "      <td>...</td>\n",
       "      <td>...</td>\n",
       "    </tr>\n",
       "    <tr>\n",
       "      <th>4172</th>\n",
       "      <td>2.0</td>\n",
       "      <td>0.565</td>\n",
       "      <td>0.450</td>\n",
       "      <td>0.165</td>\n",
       "      <td>0.8870</td>\n",
       "      <td>0.3700</td>\n",
       "      <td>0.2390</td>\n",
       "      <td>0.2490</td>\n",
       "      <td>12.5</td>\n",
       "    </tr>\n",
       "    <tr>\n",
       "      <th>4173</th>\n",
       "      <td>1.0</td>\n",
       "      <td>0.590</td>\n",
       "      <td>0.440</td>\n",
       "      <td>0.135</td>\n",
       "      <td>0.9660</td>\n",
       "      <td>0.4390</td>\n",
       "      <td>0.2145</td>\n",
       "      <td>0.2605</td>\n",
       "      <td>11.5</td>\n",
       "    </tr>\n",
       "    <tr>\n",
       "      <th>4174</th>\n",
       "      <td>1.0</td>\n",
       "      <td>0.600</td>\n",
       "      <td>0.475</td>\n",
       "      <td>0.205</td>\n",
       "      <td>1.1760</td>\n",
       "      <td>0.5255</td>\n",
       "      <td>0.2875</td>\n",
       "      <td>0.3080</td>\n",
       "      <td>10.5</td>\n",
       "    </tr>\n",
       "    <tr>\n",
       "      <th>4175</th>\n",
       "      <td>2.0</td>\n",
       "      <td>0.625</td>\n",
       "      <td>0.485</td>\n",
       "      <td>0.150</td>\n",
       "      <td>1.0945</td>\n",
       "      <td>0.5310</td>\n",
       "      <td>0.2610</td>\n",
       "      <td>0.2960</td>\n",
       "      <td>11.5</td>\n",
       "    </tr>\n",
       "    <tr>\n",
       "      <th>4176</th>\n",
       "      <td>1.0</td>\n",
       "      <td>0.710</td>\n",
       "      <td>0.555</td>\n",
       "      <td>0.195</td>\n",
       "      <td>1.9485</td>\n",
       "      <td>0.9455</td>\n",
       "      <td>0.3765</td>\n",
       "      <td>0.4950</td>\n",
       "      <td>13.5</td>\n",
       "    </tr>\n",
       "  </tbody>\n",
       "</table>\n",
       "<p>4177 rows × 9 columns</p>\n",
       "</div>"
      ],
      "text/plain": [
       "      Sex  Length  Diameter  Height  Whole weight  Shucked weight  \\\n",
       "0     1.0   0.455     0.365   0.095        0.5140          0.2245   \n",
       "1     1.0   0.350     0.265   0.090        0.2255          0.0995   \n",
       "2     2.0   0.530     0.420   0.135        0.6770          0.2565   \n",
       "3     1.0   0.440     0.365   0.125        0.5160          0.2155   \n",
       "4     3.0   0.330     0.255   0.080        0.2050          0.0895   \n",
       "...   ...     ...       ...     ...           ...             ...   \n",
       "4172  2.0   0.565     0.450   0.165        0.8870          0.3700   \n",
       "4173  1.0   0.590     0.440   0.135        0.9660          0.4390   \n",
       "4174  1.0   0.600     0.475   0.205        1.1760          0.5255   \n",
       "4175  2.0   0.625     0.485   0.150        1.0945          0.5310   \n",
       "4176  1.0   0.710     0.555   0.195        1.9485          0.9455   \n",
       "\n",
       "      Viscera weight  Shell weight   Age  \n",
       "0             0.1010        0.1500  16.5  \n",
       "1             0.0485        0.0700   8.5  \n",
       "2             0.1415        0.2100  10.5  \n",
       "3             0.1140        0.1550  11.5  \n",
       "4             0.0395        0.0550   8.5  \n",
       "...              ...           ...   ...  \n",
       "4172          0.2390        0.2490  12.5  \n",
       "4173          0.2145        0.2605  11.5  \n",
       "4174          0.2875        0.3080  10.5  \n",
       "4175          0.2610        0.2960  11.5  \n",
       "4176          0.3765        0.4950  13.5  \n",
       "\n",
       "[4177 rows x 9 columns]"
      ]
     },
     "execution_count": 16,
     "metadata": {},
     "output_type": "execute_result"
    }
   ],
   "source": [
    "abalone_data = abalone_data.apply(lambda x: x.fillna(x.mean()))\n",
    "abalone_data"
   ]
  },
  {
   "cell_type": "code",
   "execution_count": 17,
   "id": "5eed82a1",
   "metadata": {},
   "outputs": [
    {
     "data": {
      "text/plain": [
       "0"
      ]
     },
     "execution_count": 17,
     "metadata": {},
     "output_type": "execute_result"
    }
   ],
   "source": [
    "abalone_data.isnull().sum().sum()"
   ]
  },
  {
   "cell_type": "markdown",
   "id": "46d65ffa",
   "metadata": {},
   "source": [
    "Aşağıda değişkenlerle ilgili önemli istatistiki bilgileri görebiliyoruz."
   ]
  },
  {
   "cell_type": "code",
   "execution_count": 18,
   "id": "7b1f73e3",
   "metadata": {},
   "outputs": [
    {
     "data": {
      "text/html": [
       "<div>\n",
       "<style scoped>\n",
       "    .dataframe tbody tr th:only-of-type {\n",
       "        vertical-align: middle;\n",
       "    }\n",
       "\n",
       "    .dataframe tbody tr th {\n",
       "        vertical-align: top;\n",
       "    }\n",
       "\n",
       "    .dataframe thead th {\n",
       "        text-align: right;\n",
       "    }\n",
       "</style>\n",
       "<table border=\"1\" class=\"dataframe\">\n",
       "  <thead>\n",
       "    <tr style=\"text-align: right;\">\n",
       "      <th></th>\n",
       "      <th>Sex</th>\n",
       "      <th>Length</th>\n",
       "      <th>Diameter</th>\n",
       "      <th>Height</th>\n",
       "      <th>Whole weight</th>\n",
       "      <th>Shucked weight</th>\n",
       "      <th>Viscera weight</th>\n",
       "      <th>Shell weight</th>\n",
       "      <th>Age</th>\n",
       "    </tr>\n",
       "  </thead>\n",
       "  <tbody>\n",
       "    <tr>\n",
       "      <th>count</th>\n",
       "      <td>4177.000000</td>\n",
       "      <td>4177.000000</td>\n",
       "      <td>4177.000000</td>\n",
       "      <td>4177.000000</td>\n",
       "      <td>4177.000000</td>\n",
       "      <td>4177.000000</td>\n",
       "      <td>4177.000000</td>\n",
       "      <td>4177.000000</td>\n",
       "      <td>4177.000000</td>\n",
       "    </tr>\n",
       "    <tr>\n",
       "      <th>mean</th>\n",
       "      <td>1.955314</td>\n",
       "      <td>0.523918</td>\n",
       "      <td>0.407786</td>\n",
       "      <td>0.139496</td>\n",
       "      <td>0.829684</td>\n",
       "      <td>0.359699</td>\n",
       "      <td>0.180672</td>\n",
       "      <td>0.239142</td>\n",
       "      <td>11.428399</td>\n",
       "    </tr>\n",
       "    <tr>\n",
       "      <th>std</th>\n",
       "      <td>0.824774</td>\n",
       "      <td>0.119481</td>\n",
       "      <td>0.098625</td>\n",
       "      <td>0.041664</td>\n",
       "      <td>0.488494</td>\n",
       "      <td>0.221132</td>\n",
       "      <td>0.109029</td>\n",
       "      <td>0.138725</td>\n",
       "      <td>3.201742</td>\n",
       "    </tr>\n",
       "    <tr>\n",
       "      <th>min</th>\n",
       "      <td>1.000000</td>\n",
       "      <td>0.075000</td>\n",
       "      <td>0.055000</td>\n",
       "      <td>0.000000</td>\n",
       "      <td>0.002000</td>\n",
       "      <td>0.001000</td>\n",
       "      <td>0.000500</td>\n",
       "      <td>0.001500</td>\n",
       "      <td>2.500000</td>\n",
       "    </tr>\n",
       "    <tr>\n",
       "      <th>25%</th>\n",
       "      <td>1.000000</td>\n",
       "      <td>0.450000</td>\n",
       "      <td>0.350000</td>\n",
       "      <td>0.115000</td>\n",
       "      <td>0.445000</td>\n",
       "      <td>0.188000</td>\n",
       "      <td>0.094500</td>\n",
       "      <td>0.130000</td>\n",
       "      <td>9.500000</td>\n",
       "    </tr>\n",
       "    <tr>\n",
       "      <th>50%</th>\n",
       "      <td>2.000000</td>\n",
       "      <td>0.540000</td>\n",
       "      <td>0.420000</td>\n",
       "      <td>0.140000</td>\n",
       "      <td>0.806000</td>\n",
       "      <td>0.340000</td>\n",
       "      <td>0.172000</td>\n",
       "      <td>0.235000</td>\n",
       "      <td>11.428399</td>\n",
       "    </tr>\n",
       "    <tr>\n",
       "      <th>75%</th>\n",
       "      <td>3.000000</td>\n",
       "      <td>0.615000</td>\n",
       "      <td>0.480000</td>\n",
       "      <td>0.165000</td>\n",
       "      <td>1.150000</td>\n",
       "      <td>0.500500</td>\n",
       "      <td>0.251500</td>\n",
       "      <td>0.327000</td>\n",
       "      <td>12.500000</td>\n",
       "    </tr>\n",
       "    <tr>\n",
       "      <th>max</th>\n",
       "      <td>3.000000</td>\n",
       "      <td>0.815000</td>\n",
       "      <td>0.650000</td>\n",
       "      <td>1.130000</td>\n",
       "      <td>2.825500</td>\n",
       "      <td>1.488000</td>\n",
       "      <td>0.760000</td>\n",
       "      <td>1.005000</td>\n",
       "      <td>30.500000</td>\n",
       "    </tr>\n",
       "  </tbody>\n",
       "</table>\n",
       "</div>"
      ],
      "text/plain": [
       "               Sex       Length     Diameter       Height  Whole weight  \\\n",
       "count  4177.000000  4177.000000  4177.000000  4177.000000   4177.000000   \n",
       "mean      1.955314     0.523918     0.407786     0.139496      0.829684   \n",
       "std       0.824774     0.119481     0.098625     0.041664      0.488494   \n",
       "min       1.000000     0.075000     0.055000     0.000000      0.002000   \n",
       "25%       1.000000     0.450000     0.350000     0.115000      0.445000   \n",
       "50%       2.000000     0.540000     0.420000     0.140000      0.806000   \n",
       "75%       3.000000     0.615000     0.480000     0.165000      1.150000   \n",
       "max       3.000000     0.815000     0.650000     1.130000      2.825500   \n",
       "\n",
       "       Shucked weight  Viscera weight  Shell weight          Age  \n",
       "count     4177.000000     4177.000000   4177.000000  4177.000000  \n",
       "mean         0.359699        0.180672      0.239142    11.428399  \n",
       "std          0.221132        0.109029      0.138725     3.201742  \n",
       "min          0.001000        0.000500      0.001500     2.500000  \n",
       "25%          0.188000        0.094500      0.130000     9.500000  \n",
       "50%          0.340000        0.172000      0.235000    11.428399  \n",
       "75%          0.500500        0.251500      0.327000    12.500000  \n",
       "max          1.488000        0.760000      1.005000    30.500000  "
      ]
     },
     "execution_count": 18,
     "metadata": {},
     "output_type": "execute_result"
    }
   ],
   "source": [
    "abalone_data.describe()"
   ]
  },
  {
   "cell_type": "code",
   "execution_count": 19,
   "id": "53dd8a1a",
   "metadata": {},
   "outputs": [
    {
     "data": {
      "text/plain": [
       "<Axes: >"
      ]
     },
     "execution_count": 19,
     "metadata": {},
     "output_type": "execute_result"
    },
    {
     "data": {
      "image/png": "[encoded data removed]",
      "text/plain": [
       "<Figure size 640x480 with 1 Axes>"
      ]
     },
     "metadata": {},
     "output_type": "display_data"
    }
   ],
   "source": [
    "sns.boxplot(abalone_data[list(abalone_data.columns)], orient=\"h\")"
   ]
  },
  {
   "cell_type": "markdown",
   "id": "914aad97",
   "metadata": {},
   "source": [
    "Aykırı değerleri aşağıdaki gibi bulabiliriz."
   ]
  },
  {
   "cell_type": "code",
   "execution_count": 20,
   "id": "53f5116a",
   "metadata": {},
   "outputs": [],
   "source": [
    "def outliers(variable_name):\n",
    "    Q1 = np.percentile(abalone_data[variable_name], 25)\n",
    "    Q3 = np.percentile(abalone_data[variable_name], 75)\n",
    "    IQR = Q3 - Q1\n",
    "    Lower_bound = (Q1 - 1.5*IQR) \n",
    "    Upper_bound = (Q3 + 1.5*IQR)\n",
    "    \n",
    "    Lower_outliers = abalone_data[variable_name][(abalone_data[variable_name] < Lower_bound)]\n",
    "    Higher_outliers = abalone_data[variable_name][(abalone_data[variable_name] > Upper_bound)]\n",
    "    \n",
    "    return Lower_outliers, Higher_outliers"
   ]
  },
  {
   "cell_type": "markdown",
   "id": "94ad9f3c",
   "metadata": {},
   "source": [
    "'Age' değişkeni için aykırı değerlere bakalım."
   ]
  },
  {
   "cell_type": "code",
   "execution_count": 21,
   "id": "fcb92fef",
   "metadata": {},
   "outputs": [
    {
     "name": "stdout",
     "output_type": "stream",
     "text": [
      "(236     2.5\n",
      "237     4.5\n",
      "238     4.5\n",
      "306     4.5\n",
      "520     4.5\n",
      "526     4.5\n",
      "719     3.5\n",
      "720     4.5\n",
      "894     4.5\n",
      "1054    4.5\n",
      "1429    4.5\n",
      "2115    4.5\n",
      "2371    4.5\n",
      "2711    4.5\n",
      "3472    4.5\n",
      "3521    4.5\n",
      "3801    4.5\n",
      "Name: Age, dtype: float64, 6       21.5\n",
      "7       17.5\n",
      "9       20.5\n",
      "32      19.5\n",
      "33      20.5\n",
      "        ... \n",
      "3929    17.5\n",
      "3930    22.5\n",
      "3931    18.5\n",
      "3944    21.5\n",
      "3947    17.5\n",
      "Name: Age, Length: 260, dtype: float64)\n"
     ]
    }
   ],
   "source": [
    "print(outliers(\"Age\"))"
   ]
  },
  {
   "cell_type": "markdown",
   "id": "5fbc79cd",
   "metadata": {},
   "source": [
    "Bütün değişkenler arasındaki ilişkiye aşağıdaki gibi bakılabilir fakat fazla değişkenimiz olduğu için ekrana yazdırmıyorum."
   ]
  },
  {
   "cell_type": "code",
   "execution_count": 22,
   "id": "32352eea",
   "metadata": {},
   "outputs": [],
   "source": [
    "#sbn.pairplot(abalone_data[list(abalone_data)])"
   ]
  },
  {
   "cell_type": "markdown",
   "id": "87d2f302",
   "metadata": {},
   "source": [
    "Eğer istediğimiz değişkenler arasındaki ilişkiye bakmak istersek aşağıdaki fonksiyonu kullanabiliriz."
   ]
  },
  {
   "cell_type": "code",
   "execution_count": 23,
   "id": "4f9bdc2e",
   "metadata": {},
   "outputs": [],
   "source": [
    "def correlation_plot(variable_name1, variable_name2):\n",
    "    return sbn.jointplot(x = variable_name1,\n",
    "             y = variable_name2,\n",
    "             data = abalone_data,\n",
    "             kind = \"reg\")"
   ]
  },
  {
   "cell_type": "markdown",
   "id": "f116c44a",
   "metadata": {},
   "source": [
    "## 1.Basit Doğrusal Regresyon\n",
    "&ensp;<sup>[İçeriğe git.](#İçerik)</sup>"
   ]
  },
  {
   "cell_type": "markdown",
   "id": "08982e6e",
   "metadata": {},
   "source": [
    "Basit doğrusal regresyon modelimizde kullanacağım bağımsız değişkeni 'Shell weight' olarak seçiyorum. Bağımlı değişkenimiz ise 'Age'."
   ]
  },
  {
   "cell_type": "code",
   "execution_count": 24,
   "id": "cf974673",
   "metadata": {},
   "outputs": [
    {
     "data": {
      "text/html": [
       "<div>\n",
       "<style scoped>\n",
       "    .dataframe tbody tr th:only-of-type {\n",
       "        vertical-align: middle;\n",
       "    }\n",
       "\n",
       "    .dataframe tbody tr th {\n",
       "        vertical-align: top;\n",
       "    }\n",
       "\n",
       "    .dataframe thead th {\n",
       "        text-align: right;\n",
       "    }\n",
       "</style>\n",
       "<table border=\"1\" class=\"dataframe\">\n",
       "  <thead>\n",
       "    <tr style=\"text-align: right;\">\n",
       "      <th></th>\n",
       "      <th>Shell weight</th>\n",
       "      <th>Age</th>\n",
       "    </tr>\n",
       "  </thead>\n",
       "  <tbody>\n",
       "    <tr>\n",
       "      <th>0</th>\n",
       "      <td>0.150</td>\n",
       "      <td>16.5</td>\n",
       "    </tr>\n",
       "    <tr>\n",
       "      <th>1</th>\n",
       "      <td>0.070</td>\n",
       "      <td>8.5</td>\n",
       "    </tr>\n",
       "    <tr>\n",
       "      <th>2</th>\n",
       "      <td>0.210</td>\n",
       "      <td>10.5</td>\n",
       "    </tr>\n",
       "    <tr>\n",
       "      <th>3</th>\n",
       "      <td>0.155</td>\n",
       "      <td>11.5</td>\n",
       "    </tr>\n",
       "    <tr>\n",
       "      <th>4</th>\n",
       "      <td>0.055</td>\n",
       "      <td>8.5</td>\n",
       "    </tr>\n",
       "  </tbody>\n",
       "</table>\n",
       "</div>"
      ],
      "text/plain": [
       "   Shell weight   Age\n",
       "0         0.150  16.5\n",
       "1         0.070   8.5\n",
       "2         0.210  10.5\n",
       "3         0.155  11.5\n",
       "4         0.055   8.5"
      ]
     },
     "execution_count": 24,
     "metadata": {},
     "output_type": "execute_result"
    }
   ],
   "source": [
    "slr_variables = abalone_data.loc[:, ['Shell weight', 'Age']]\n",
    "slr_variables.head()"
   ]
  },
  {
   "cell_type": "code",
   "execution_count": 25,
   "id": "f51c304d",
   "metadata": {},
   "outputs": [
    {
     "data": {
      "text/plain": [
       "<seaborn.axisgrid.JointGrid at 0x24b55cfd370>"
      ]
     },
     "execution_count": 25,
     "metadata": {},
     "output_type": "execute_result"
    },
    {
     "data": {
      "image/png": "[encoded data removed]",
      "text/plain": [
       "<Figure size 600x600 with 3 Axes>"
      ]
     },
     "metadata": {},
     "output_type": "display_data"
    }
   ],
   "source": [
    "sns.jointplot(x=\"Shell weight\", y=\"Age\", data=slr_variables, kind=\"reg\")"
   ]
  },
  {
   "cell_type": "markdown",
   "id": "337f3cfc",
   "metadata": {},
   "source": [
    "Modelimizi oluşturmadan önce verimizi eğitim ve test seti olarak bölüyoruz."
   ]
  },
  {
   "cell_type": "code",
   "execution_count": 26,
   "id": "d38e7167",
   "metadata": {},
   "outputs": [],
   "source": [
    "slr_train, slr_test = train_test_split(slr_variables,\n",
    "                                       train_size = 0.8,\n",
    "                                       test_size = 0.2,\n",
    "                                       random_state = 121521014)"
   ]
  },
  {
   "cell_type": "markdown",
   "id": "04aed430",
   "metadata": {},
   "source": [
    "%80'e %20 böldüğümüz veriden, eğitim setine 3341 ve test setine 836 gözlem düştüğünü görebiliyoruz."
   ]
  },
  {
   "cell_type": "code",
   "execution_count": 27,
   "id": "31b60a8d",
   "metadata": {},
   "outputs": [
    {
     "data": {
      "text/plain": [
       "(3341, 836)"
      ]
     },
     "execution_count": 27,
     "metadata": {},
     "output_type": "execute_result"
    }
   ],
   "source": [
    "len(slr_train), len(slr_test)"
   ]
  },
  {
   "cell_type": "markdown",
   "id": "8dc60731",
   "metadata": {},
   "source": [
    "Bağımsız değişken için ayrı bağımlı değişken için ayrı eğitim ve test serileri oluşturalım."
   ]
  },
  {
   "cell_type": "code",
   "execution_count": 28,
   "id": "1d67a8f3",
   "metadata": {},
   "outputs": [],
   "source": [
    "X_train = slr_train['Shell weight']\n",
    "y_train = slr_train['Age']\n",
    "X_test = slr_test['Shell weight']\n",
    "y_test = slr_test['Age']"
   ]
  },
  {
   "cell_type": "markdown",
   "id": "124efa64",
   "metadata": {},
   "source": [
    "Kullanacağımız yöntemi adlandıralım."
   ]
  },
  {
   "cell_type": "code",
   "execution_count": 29,
   "id": "577877c3",
   "metadata": {},
   "outputs": [],
   "source": [
    "sLR = LinearRegression()"
   ]
  },
  {
   "cell_type": "markdown",
   "id": "259ed991",
   "metadata": {},
   "source": [
    "Modeli oluşturmadan önce boyut düzenlemeleri yapıyoruz."
   ]
  },
  {
   "cell_type": "code",
   "execution_count": 30,
   "id": "ae15a519",
   "metadata": {},
   "outputs": [],
   "source": [
    "X_train = X_train.values.reshape(-1, 1)\n",
    "X_test = X_test.values.reshape(-1, 1)"
   ]
  },
  {
   "cell_type": "markdown",
   "id": "56bcef59",
   "metadata": {},
   "source": [
    "Modeli oluşturalım ve fit edelim."
   ]
  },
  {
   "cell_type": "code",
   "execution_count": 31,
   "id": "b80b5b65",
   "metadata": {},
   "outputs": [],
   "source": [
    "sLR_Model = sLR.fit(X_train, y_train)"
   ]
  },
  {
   "cell_type": "markdown",
   "id": "25c908fa",
   "metadata": {},
   "source": [
    " Sabit katsayı:"
   ]
  },
  {
   "cell_type": "code",
   "execution_count": 32,
   "id": "a5f06db9",
   "metadata": {},
   "outputs": [
    {
     "data": {
      "text/plain": [
       "8.014116077330247"
      ]
     },
     "execution_count": 32,
     "metadata": {},
     "output_type": "execute_result"
    }
   ],
   "source": [
    "sLR_Model.intercept_"
   ]
  },
  {
   "cell_type": "markdown",
   "id": "295021f9",
   "metadata": {},
   "source": [
    "Eğim katsayısı:"
   ]
  },
  {
   "cell_type": "code",
   "execution_count": 33,
   "id": "1757c4ca",
   "metadata": {},
   "outputs": [
    {
     "data": {
      "text/plain": [
       "array([14.30008561])"
      ]
     },
     "execution_count": 33,
     "metadata": {},
     "output_type": "execute_result"
    }
   ],
   "source": [
    "sLR_Model.coef_"
   ]
  },
  {
   "cell_type": "markdown",
   "id": "47c7d472",
   "metadata": {},
   "source": [
    " Belirtme katsayısına($R^2$) baktığımızda modelin tahminlerinin iyi olmayacağını söyleyebiliriz."
   ]
  },
  {
   "cell_type": "code",
   "execution_count": 34,
   "id": "a667f4db",
   "metadata": {},
   "outputs": [
    {
     "data": {
      "text/plain": [
       "0.38462834474038676"
      ]
     },
     "execution_count": 34,
     "metadata": {},
     "output_type": "execute_result"
    }
   ],
   "source": [
    "sLR_Model.score(X_train, y_train)"
   ]
  },
  {
   "cell_type": "markdown",
   "id": "aa7bea35",
   "metadata": {},
   "source": [
    "Modeli aşağıdaki gibi görselleştirebiliriz."
   ]
  },
  {
   "cell_type": "code",
   "execution_count": 35,
   "id": "91eaa895",
   "metadata": {},
   "outputs": [
    {
     "data": {
      "text/plain": [
       "(0.0, 29.7)"
      ]
     },
     "execution_count": 35,
     "metadata": {},
     "output_type": "execute_result"
    },
    {
     "data": {
      "image/png": "[encoded data removed]",
      "text/plain": [
       "<Figure size 640x480 with 1 Axes>"
      ]
     },
     "metadata": {},
     "output_type": "display_data"
    }
   ],
   "source": [
    "graph = sns.regplot(x=\"Shell weight\", y=\"Age\", data=slr_train, ci= None,\n",
    "        scatter_kws={\"color\":\"r\", \"s\":9})\n",
    "graph.set_title(\"Model Denklemi: AGE = 8 + SHELL WEIGHT*14.3\")\n",
    "graph.set_ylabel(\"Age\")\n",
    "graph.set_xlabel(\"Shell weight\")\n",
    "plt.xlim(-0.5, 2)\n",
    "plt.ylim(bottom = 0)"
   ]
  },
  {
   "cell_type": "markdown",
   "id": "bac36757",
   "metadata": {},
   "source": [
    "Bağımsız değişken eğitim seti üzerinden tahmin değerleri elde edelim."
   ]
  },
  {
   "cell_type": "code",
   "execution_count": 36,
   "id": "71cde6ff",
   "metadata": {},
   "outputs": [],
   "source": [
    "y_hat_train = pd.DataFrame(sLR_Model.predict(X_train), index = y_train.index)"
   ]
  },
  {
   "cell_type": "markdown",
   "id": "1f19ab29",
   "metadata": {},
   "source": [
    "Eğitim setinin gerçek değerleri ve tahmin edilen değerleri ile ilgili bir tablo oluşturalım.  \n",
    "Bu tablo hata, hatalar karesi ve orantılı hataları göstermekte."
   ]
  },
  {
   "cell_type": "code",
   "execution_count": 37,
   "id": "37f2a042",
   "metadata": {},
   "outputs": [],
   "source": [
    "df_train = pd.concat([y_train, y_hat_train], axis = 1)"
   ]
  },
  {
   "cell_type": "code",
   "execution_count": 38,
   "id": "9322a573",
   "metadata": {},
   "outputs": [],
   "source": [
    "def residuals(df):\n",
    "    df.columns = [\"Real Age\", \"Predicted Age\"]\n",
    "    df[\"Residual\"] = df[\"Real Age\"] - df[\"Predicted Age\"]\n",
    "    df[\"SQR Residual\"] = df[\"Residual\"]**2\n",
    "    df[\"Proportional Residual\"] = abs(df[\"Residual\"]/df[\"Real Age\"])\n",
    "    np.mean(df[\"SQR Residual\"])\n",
    "    np.mean(df[\"Proportional Residual\"])\n",
    "    np.median(df[\"Proportional Residual\"])\n",
    "    return df.head()"
   ]
  },
  {
   "cell_type": "code",
   "execution_count": 39,
   "id": "3d28808b",
   "metadata": {},
   "outputs": [
    {
     "data": {
      "text/html": [
       "<div>\n",
       "<style scoped>\n",
       "    .dataframe tbody tr th:only-of-type {\n",
       "        vertical-align: middle;\n",
       "    }\n",
       "\n",
       "    .dataframe tbody tr th {\n",
       "        vertical-align: top;\n",
       "    }\n",
       "\n",
       "    .dataframe thead th {\n",
       "        text-align: right;\n",
       "    }\n",
       "</style>\n",
       "<table border=\"1\" class=\"dataframe\">\n",
       "  <thead>\n",
       "    <tr style=\"text-align: right;\">\n",
       "      <th></th>\n",
       "      <th>Real Age</th>\n",
       "      <th>Predicted Age</th>\n",
       "      <th>Residual</th>\n",
       "      <th>SQR Residual</th>\n",
       "      <th>Proportional Residual</th>\n",
       "    </tr>\n",
       "  </thead>\n",
       "  <tbody>\n",
       "    <tr>\n",
       "      <th>2417</th>\n",
       "      <td>11.428399</td>\n",
       "      <td>8.586120</td>\n",
       "      <td>2.842279</td>\n",
       "      <td>8.078551</td>\n",
       "      <td>0.248703</td>\n",
       "    </tr>\n",
       "    <tr>\n",
       "      <th>3589</th>\n",
       "      <td>12.500000</td>\n",
       "      <td>13.898601</td>\n",
       "      <td>-1.398601</td>\n",
       "      <td>1.956086</td>\n",
       "      <td>0.111888</td>\n",
       "    </tr>\n",
       "    <tr>\n",
       "      <th>1255</th>\n",
       "      <td>8.500000</td>\n",
       "      <td>9.529925</td>\n",
       "      <td>-1.029925</td>\n",
       "      <td>1.060746</td>\n",
       "      <td>0.121168</td>\n",
       "    </tr>\n",
       "    <tr>\n",
       "      <th>2733</th>\n",
       "      <td>8.500000</td>\n",
       "      <td>9.515625</td>\n",
       "      <td>-1.015625</td>\n",
       "      <td>1.031494</td>\n",
       "      <td>0.119485</td>\n",
       "    </tr>\n",
       "    <tr>\n",
       "      <th>469</th>\n",
       "      <td>22.500000</td>\n",
       "      <td>14.663656</td>\n",
       "      <td>7.836344</td>\n",
       "      <td>61.408289</td>\n",
       "      <td>0.348282</td>\n",
       "    </tr>\n",
       "  </tbody>\n",
       "</table>\n",
       "</div>"
      ],
      "text/plain": [
       "       Real Age  Predicted Age  Residual  SQR Residual  Proportional Residual\n",
       "2417  11.428399       8.586120  2.842279      8.078551               0.248703\n",
       "3589  12.500000      13.898601 -1.398601      1.956086               0.111888\n",
       "1255   8.500000       9.529925 -1.029925      1.060746               0.121168\n",
       "2733   8.500000       9.515625 -1.015625      1.031494               0.119485\n",
       "469   22.500000      14.663656  7.836344     61.408289               0.348282"
      ]
     },
     "execution_count": 39,
     "metadata": {},
     "output_type": "execute_result"
    }
   ],
   "source": [
    "residuals(df_train)"
   ]
  },
  {
   "cell_type": "markdown",
   "id": "a6c279ba",
   "metadata": {},
   "source": [
    "Bağımsız değişken test seti üzerinden tahmin değerleri elde edelim."
   ]
  },
  {
   "cell_type": "code",
   "execution_count": 40,
   "id": "6360da63",
   "metadata": {},
   "outputs": [],
   "source": [
    "y_hat_test = pd.DataFrame(sLR_Model.predict(X_test), index = y_test.index)"
   ]
  },
  {
   "cell_type": "markdown",
   "id": "2fdcfea4",
   "metadata": {},
   "source": [
    "Test setinin gerçek değerleri ve tahmin edilen değerleri ile ilgili bir tablo oluşturalım.  "
   ]
  },
  {
   "cell_type": "code",
   "execution_count": 41,
   "id": "daba0045",
   "metadata": {},
   "outputs": [],
   "source": [
    "df_test = pd.concat([y_test, y_hat_test], axis = 1)"
   ]
  },
  {
   "cell_type": "code",
   "execution_count": 42,
   "id": "4b344400",
   "metadata": {
    "scrolled": true
   },
   "outputs": [
    {
     "data": {
      "text/html": [
       "<div>\n",
       "<style scoped>\n",
       "    .dataframe tbody tr th:only-of-type {\n",
       "        vertical-align: middle;\n",
       "    }\n",
       "\n",
       "    .dataframe tbody tr th {\n",
       "        vertical-align: top;\n",
       "    }\n",
       "\n",
       "    .dataframe thead th {\n",
       "        text-align: right;\n",
       "    }\n",
       "</style>\n",
       "<table border=\"1\" class=\"dataframe\">\n",
       "  <thead>\n",
       "    <tr style=\"text-align: right;\">\n",
       "      <th></th>\n",
       "      <th>Real Age</th>\n",
       "      <th>Predicted Age</th>\n",
       "      <th>Residual</th>\n",
       "      <th>SQR Residual</th>\n",
       "      <th>Proportional Residual</th>\n",
       "    </tr>\n",
       "  </thead>\n",
       "  <tbody>\n",
       "    <tr>\n",
       "      <th>2283</th>\n",
       "      <td>8.5</td>\n",
       "      <td>9.801627</td>\n",
       "      <td>-1.301627</td>\n",
       "      <td>1.694232</td>\n",
       "      <td>0.153133</td>\n",
       "    </tr>\n",
       "    <tr>\n",
       "      <th>2826</th>\n",
       "      <td>10.5</td>\n",
       "      <td>10.209179</td>\n",
       "      <td>0.290821</td>\n",
       "      <td>0.084577</td>\n",
       "      <td>0.027697</td>\n",
       "    </tr>\n",
       "    <tr>\n",
       "      <th>2238</th>\n",
       "      <td>9.5</td>\n",
       "      <td>9.587125</td>\n",
       "      <td>-0.087125</td>\n",
       "      <td>0.007591</td>\n",
       "      <td>0.009171</td>\n",
       "    </tr>\n",
       "    <tr>\n",
       "      <th>428</th>\n",
       "      <td>22.5</td>\n",
       "      <td>13.376648</td>\n",
       "      <td>9.123352</td>\n",
       "      <td>83.235548</td>\n",
       "      <td>0.405482</td>\n",
       "    </tr>\n",
       "    <tr>\n",
       "      <th>3689</th>\n",
       "      <td>10.5</td>\n",
       "      <td>13.376648</td>\n",
       "      <td>-2.876648</td>\n",
       "      <td>8.275105</td>\n",
       "      <td>0.273966</td>\n",
       "    </tr>\n",
       "  </tbody>\n",
       "</table>\n",
       "</div>"
      ],
      "text/plain": [
       "      Real Age  Predicted Age  Residual  SQR Residual  Proportional Residual\n",
       "2283       8.5       9.801627 -1.301627      1.694232               0.153133\n",
       "2826      10.5      10.209179  0.290821      0.084577               0.027697\n",
       "2238       9.5       9.587125 -0.087125      0.007591               0.009171\n",
       "428       22.5      13.376648  9.123352     83.235548               0.405482\n",
       "3689      10.5      13.376648 -2.876648      8.275105               0.273966"
      ]
     },
     "execution_count": 42,
     "metadata": {},
     "output_type": "execute_result"
    }
   ],
   "source": [
    "residuals(df_test)"
   ]
  },
  {
   "cell_type": "markdown",
   "id": "a5e5857d",
   "metadata": {},
   "source": [
    "Test setinden tahmin edilen değişkenleri ve hata değerlerini görselleştirelim. \n",
    "Büyük bir hata oranına sahip olduğunu söyleyebiliriz."
   ]
  },
  {
   "cell_type": "code",
   "execution_count": 43,
   "id": "1cde831e",
   "metadata": {},
   "outputs": [
    {
     "data": {
      "image/png": "[encoded data removed]",
      "text/plain": [
       "<Figure size 640x480 with 1 Axes>"
      ]
     },
     "metadata": {},
     "output_type": "display_data"
    }
   ],
   "source": [
    "sns.residplot(x=y_hat_test, y=df_test[\"Residual\"], lowess = True, line_kws=dict(color=\"darkred\"))\n",
    "plt.title('Residual Plot')\n",
    "plt.xlabel('Predicted Age')\n",
    "plt.show()"
   ]
  },
  {
   "cell_type": "markdown",
   "id": "7c293d42",
   "metadata": {},
   "source": [
    "## 2.Çoklu Doğrusal Regresyon\n",
    "&nbsp;<sup>[İçeriğe git.](#İçerik)</sup>"
   ]
  },
  {
   "cell_type": "markdown",
   "id": "5571e386",
   "metadata": {},
   "source": [
    "Modelimizi oluşturmadan önce verimizi eğitim ve test seti olarak bölüyoruz."
   ]
  },
  {
   "cell_type": "code",
   "execution_count": 44,
   "id": "c4d73cd8",
   "metadata": {},
   "outputs": [],
   "source": [
    "abalone_DF_train, abalone_DF_test = train_test_split(abalone_data,\n",
    "                                         test_size=0.2,\n",
    "                                         random_state=121521014)"
   ]
  },
  {
   "cell_type": "markdown",
   "id": "914fee52",
   "metadata": {},
   "source": [
    "Bütün değişkenler sayısal olduğu için hepsini 0 ve 1 arasında ölçeklendirelim. \n",
    "Bu işlem için Minmax normalizasyonu yapalım."
   ]
  },
  {
   "cell_type": "code",
   "execution_count": 45,
   "id": "258e23ce",
   "metadata": {},
   "outputs": [],
   "source": [
    "scalerMM = MinMaxScaler()"
   ]
  },
  {
   "cell_type": "code",
   "execution_count": 46,
   "id": "b484a78a",
   "metadata": {},
   "outputs": [
    {
     "data": {
      "text/html": [
       "<div>\n",
       "<style scoped>\n",
       "    .dataframe tbody tr th:only-of-type {\n",
       "        vertical-align: middle;\n",
       "    }\n",
       "\n",
       "    .dataframe tbody tr th {\n",
       "        vertical-align: top;\n",
       "    }\n",
       "\n",
       "    .dataframe thead th {\n",
       "        text-align: right;\n",
       "    }\n",
       "</style>\n",
       "<table border=\"1\" class=\"dataframe\">\n",
       "  <thead>\n",
       "    <tr style=\"text-align: right;\">\n",
       "      <th></th>\n",
       "      <th>Sex</th>\n",
       "      <th>Length</th>\n",
       "      <th>Diameter</th>\n",
       "      <th>Height</th>\n",
       "      <th>Whole weight</th>\n",
       "      <th>Shucked weight</th>\n",
       "      <th>Viscera weight</th>\n",
       "      <th>Shell weight</th>\n",
       "      <th>Age</th>\n",
       "    </tr>\n",
       "  </thead>\n",
       "  <tbody>\n",
       "    <tr>\n",
       "      <th>count</th>\n",
       "      <td>4177.000000</td>\n",
       "      <td>4177.000000</td>\n",
       "      <td>4177.000000</td>\n",
       "      <td>4177.000000</td>\n",
       "      <td>4177.000000</td>\n",
       "      <td>4177.000000</td>\n",
       "      <td>4177.000000</td>\n",
       "      <td>4177.000000</td>\n",
       "      <td>4177.000000</td>\n",
       "    </tr>\n",
       "    <tr>\n",
       "      <th>mean</th>\n",
       "      <td>1.955314</td>\n",
       "      <td>0.523918</td>\n",
       "      <td>0.407786</td>\n",
       "      <td>0.139496</td>\n",
       "      <td>0.829684</td>\n",
       "      <td>0.359699</td>\n",
       "      <td>0.180672</td>\n",
       "      <td>0.239142</td>\n",
       "      <td>11.428399</td>\n",
       "    </tr>\n",
       "    <tr>\n",
       "      <th>std</th>\n",
       "      <td>0.824774</td>\n",
       "      <td>0.119481</td>\n",
       "      <td>0.098625</td>\n",
       "      <td>0.041664</td>\n",
       "      <td>0.488494</td>\n",
       "      <td>0.221132</td>\n",
       "      <td>0.109029</td>\n",
       "      <td>0.138725</td>\n",
       "      <td>3.201742</td>\n",
       "    </tr>\n",
       "    <tr>\n",
       "      <th>min</th>\n",
       "      <td>1.000000</td>\n",
       "      <td>0.075000</td>\n",
       "      <td>0.055000</td>\n",
       "      <td>0.000000</td>\n",
       "      <td>0.002000</td>\n",
       "      <td>0.001000</td>\n",
       "      <td>0.000500</td>\n",
       "      <td>0.001500</td>\n",
       "      <td>2.500000</td>\n",
       "    </tr>\n",
       "    <tr>\n",
       "      <th>25%</th>\n",
       "      <td>1.000000</td>\n",
       "      <td>0.450000</td>\n",
       "      <td>0.350000</td>\n",
       "      <td>0.115000</td>\n",
       "      <td>0.445000</td>\n",
       "      <td>0.188000</td>\n",
       "      <td>0.094500</td>\n",
       "      <td>0.130000</td>\n",
       "      <td>9.500000</td>\n",
       "    </tr>\n",
       "    <tr>\n",
       "      <th>50%</th>\n",
       "      <td>2.000000</td>\n",
       "      <td>0.540000</td>\n",
       "      <td>0.420000</td>\n",
       "      <td>0.140000</td>\n",
       "      <td>0.806000</td>\n",
       "      <td>0.340000</td>\n",
       "      <td>0.172000</td>\n",
       "      <td>0.235000</td>\n",
       "      <td>11.428399</td>\n",
       "    </tr>\n",
       "    <tr>\n",
       "      <th>75%</th>\n",
       "      <td>3.000000</td>\n",
       "      <td>0.615000</td>\n",
       "      <td>0.480000</td>\n",
       "      <td>0.165000</td>\n",
       "      <td>1.150000</td>\n",
       "      <td>0.500500</td>\n",
       "      <td>0.251500</td>\n",
       "      <td>0.327000</td>\n",
       "      <td>12.500000</td>\n",
       "    </tr>\n",
       "    <tr>\n",
       "      <th>max</th>\n",
       "      <td>3.000000</td>\n",
       "      <td>0.815000</td>\n",
       "      <td>0.650000</td>\n",
       "      <td>1.130000</td>\n",
       "      <td>2.825500</td>\n",
       "      <td>1.488000</td>\n",
       "      <td>0.760000</td>\n",
       "      <td>1.005000</td>\n",
       "      <td>30.500000</td>\n",
       "    </tr>\n",
       "  </tbody>\n",
       "</table>\n",
       "</div>"
      ],
      "text/plain": [
       "               Sex       Length     Diameter       Height  Whole weight  \\\n",
       "count  4177.000000  4177.000000  4177.000000  4177.000000   4177.000000   \n",
       "mean      1.955314     0.523918     0.407786     0.139496      0.829684   \n",
       "std       0.824774     0.119481     0.098625     0.041664      0.488494   \n",
       "min       1.000000     0.075000     0.055000     0.000000      0.002000   \n",
       "25%       1.000000     0.450000     0.350000     0.115000      0.445000   \n",
       "50%       2.000000     0.540000     0.420000     0.140000      0.806000   \n",
       "75%       3.000000     0.615000     0.480000     0.165000      1.150000   \n",
       "max       3.000000     0.815000     0.650000     1.130000      2.825500   \n",
       "\n",
       "       Shucked weight  Viscera weight  Shell weight          Age  \n",
       "count     4177.000000     4177.000000   4177.000000  4177.000000  \n",
       "mean         0.359699        0.180672      0.239142    11.428399  \n",
       "std          0.221132        0.109029      0.138725     3.201742  \n",
       "min          0.001000        0.000500      0.001500     2.500000  \n",
       "25%          0.188000        0.094500      0.130000     9.500000  \n",
       "50%          0.340000        0.172000      0.235000    11.428399  \n",
       "75%          0.500500        0.251500      0.327000    12.500000  \n",
       "max          1.488000        0.760000      1.005000    30.500000  "
      ]
     },
     "execution_count": 46,
     "metadata": {},
     "output_type": "execute_result"
    }
   ],
   "source": [
    "abalone_data.describe()"
   ]
  },
  {
   "cell_type": "code",
   "execution_count": 47,
   "id": "49884455",
   "metadata": {},
   "outputs": [],
   "source": [
    "variables = list(abalone_DF_train.columns)"
   ]
  },
  {
   "cell_type": "code",
   "execution_count": 48,
   "id": "0bde51cd",
   "metadata": {},
   "outputs": [],
   "source": [
    "abalone_DF_train[variables] = scalerMM.fit_transform(abalone_DF_train[variables])\n",
    "abalone_DF_test[variables] = scalerMM.transform(abalone_DF_test[variables])"
   ]
  },
  {
   "cell_type": "code",
   "execution_count": 49,
   "id": "ad6d481b",
   "metadata": {},
   "outputs": [
    {
     "data": {
      "text/html": [
       "<div>\n",
       "<style scoped>\n",
       "    .dataframe tbody tr th:only-of-type {\n",
       "        vertical-align: middle;\n",
       "    }\n",
       "\n",
       "    .dataframe tbody tr th {\n",
       "        vertical-align: top;\n",
       "    }\n",
       "\n",
       "    .dataframe thead th {\n",
       "        text-align: right;\n",
       "    }\n",
       "</style>\n",
       "<table border=\"1\" class=\"dataframe\">\n",
       "  <thead>\n",
       "    <tr style=\"text-align: right;\">\n",
       "      <th></th>\n",
       "      <th>Sex</th>\n",
       "      <th>Length</th>\n",
       "      <th>Diameter</th>\n",
       "      <th>Height</th>\n",
       "      <th>Whole weight</th>\n",
       "      <th>Shucked weight</th>\n",
       "      <th>Viscera weight</th>\n",
       "      <th>Shell weight</th>\n",
       "      <th>Age</th>\n",
       "    </tr>\n",
       "  </thead>\n",
       "  <tbody>\n",
       "    <tr>\n",
       "      <th>count</th>\n",
       "      <td>3341.000000</td>\n",
       "      <td>3341.000000</td>\n",
       "      <td>3341.000000</td>\n",
       "      <td>3341.000000</td>\n",
       "      <td>3341.000000</td>\n",
       "      <td>3341.000000</td>\n",
       "      <td>3341.000000</td>\n",
       "      <td>3341.000000</td>\n",
       "      <td>3341.000000</td>\n",
       "    </tr>\n",
       "    <tr>\n",
       "      <th>mean</th>\n",
       "      <td>0.472126</td>\n",
       "      <td>0.588425</td>\n",
       "      <td>0.568765</td>\n",
       "      <td>0.123772</td>\n",
       "      <td>0.292526</td>\n",
       "      <td>0.265585</td>\n",
       "      <td>0.238021</td>\n",
       "      <td>0.236407</td>\n",
       "      <td>0.289350</td>\n",
       "    </tr>\n",
       "    <tr>\n",
       "      <th>std</th>\n",
       "      <td>0.412081</td>\n",
       "      <td>0.168890</td>\n",
       "      <td>0.176228</td>\n",
       "      <td>0.037639</td>\n",
       "      <td>0.172711</td>\n",
       "      <td>0.162131</td>\n",
       "      <td>0.143040</td>\n",
       "      <td>0.138847</td>\n",
       "      <td>0.133663</td>\n",
       "    </tr>\n",
       "    <tr>\n",
       "      <th>min</th>\n",
       "      <td>0.000000</td>\n",
       "      <td>0.000000</td>\n",
       "      <td>0.000000</td>\n",
       "      <td>0.000000</td>\n",
       "      <td>0.000000</td>\n",
       "      <td>0.000000</td>\n",
       "      <td>0.000000</td>\n",
       "      <td>0.000000</td>\n",
       "      <td>0.000000</td>\n",
       "    </tr>\n",
       "    <tr>\n",
       "      <th>25%</th>\n",
       "      <td>0.000000</td>\n",
       "      <td>0.489362</td>\n",
       "      <td>0.464286</td>\n",
       "      <td>0.101770</td>\n",
       "      <td>0.155634</td>\n",
       "      <td>0.138673</td>\n",
       "      <td>0.123766</td>\n",
       "      <td>0.128743</td>\n",
       "      <td>0.208333</td>\n",
       "    </tr>\n",
       "    <tr>\n",
       "      <th>50%</th>\n",
       "      <td>0.500000</td>\n",
       "      <td>0.617021</td>\n",
       "      <td>0.598214</td>\n",
       "      <td>0.123894</td>\n",
       "      <td>0.284827</td>\n",
       "      <td>0.251761</td>\n",
       "      <td>0.227123</td>\n",
       "      <td>0.233034</td>\n",
       "      <td>0.288683</td>\n",
       "    </tr>\n",
       "    <tr>\n",
       "      <th>75%</th>\n",
       "      <td>1.000000</td>\n",
       "      <td>0.716312</td>\n",
       "      <td>0.696429</td>\n",
       "      <td>0.146018</td>\n",
       "      <td>0.405501</td>\n",
       "      <td>0.370412</td>\n",
       "      <td>0.331139</td>\n",
       "      <td>0.321357</td>\n",
       "      <td>0.333333</td>\n",
       "    </tr>\n",
       "    <tr>\n",
       "      <th>max</th>\n",
       "      <td>1.000000</td>\n",
       "      <td>1.000000</td>\n",
       "      <td>1.000000</td>\n",
       "      <td>1.000000</td>\n",
       "      <td>1.000000</td>\n",
       "      <td>1.000000</td>\n",
       "      <td>1.000000</td>\n",
       "      <td>1.000000</td>\n",
       "      <td>1.000000</td>\n",
       "    </tr>\n",
       "  </tbody>\n",
       "</table>\n",
       "</div>"
      ],
      "text/plain": [
       "               Sex       Length     Diameter       Height  Whole weight  \\\n",
       "count  3341.000000  3341.000000  3341.000000  3341.000000   3341.000000   \n",
       "mean      0.472126     0.588425     0.568765     0.123772      0.292526   \n",
       "std       0.412081     0.168890     0.176228     0.037639      0.172711   \n",
       "min       0.000000     0.000000     0.000000     0.000000      0.000000   \n",
       "25%       0.000000     0.489362     0.464286     0.101770      0.155634   \n",
       "50%       0.500000     0.617021     0.598214     0.123894      0.284827   \n",
       "75%       1.000000     0.716312     0.696429     0.146018      0.405501   \n",
       "max       1.000000     1.000000     1.000000     1.000000      1.000000   \n",
       "\n",
       "       Shucked weight  Viscera weight  Shell weight          Age  \n",
       "count     3341.000000     3341.000000   3341.000000  3341.000000  \n",
       "mean         0.265585        0.238021      0.236407     0.289350  \n",
       "std          0.162131        0.143040      0.138847     0.133663  \n",
       "min          0.000000        0.000000      0.000000     0.000000  \n",
       "25%          0.138673        0.123766      0.128743     0.208333  \n",
       "50%          0.251761        0.227123      0.233034     0.288683  \n",
       "75%          0.370412        0.331139      0.321357     0.333333  \n",
       "max          1.000000        1.000000      1.000000     1.000000  "
      ]
     },
     "execution_count": 49,
     "metadata": {},
     "output_type": "execute_result"
    }
   ],
   "source": [
    "abalone_DF_train.describe()"
   ]
  },
  {
   "cell_type": "markdown",
   "id": "d3c37cbb",
   "metadata": {},
   "source": [
    "Bağımsız değişkenlerimiz için ayrı bağımlı değişkenimiz için ayrı eğitim ve test serileri oluşturalım."
   ]
  },
  {
   "cell_type": "code",
   "execution_count": 50,
   "id": "fd302e57",
   "metadata": {},
   "outputs": [],
   "source": [
    "a_y_train = abalone_DF_train.pop(\"Age\")\n",
    "a_X_train = abalone_DF_train"
   ]
  },
  {
   "cell_type": "code",
   "execution_count": 51,
   "id": "bb8c9f25",
   "metadata": {},
   "outputs": [],
   "source": [
    "a_y_test = abalone_DF_test.pop(\"Age\")\n",
    "a_X_test = abalone_DF_test"
   ]
  },
  {
   "cell_type": "markdown",
   "id": "2cc54a1d",
   "metadata": {},
   "source": [
    "#### 2.1.Özellik Eliminasyonu (Feature Selection)\n",
    "&nbsp;<sup>[İçeriğe git.](#İçerik)</sup>"
   ]
  },
  {
   "cell_type": "markdown",
   "id": "1a8e8c85",
   "metadata": {},
   "source": [
    "Özyinelemeli Özelliğin Eliminasyonu(RFE) yöntemini de kullanarak bir doğrusal regresyon modeli oluşturalım ve fit edelim."
   ]
  },
  {
   "cell_type": "code",
   "execution_count": 52,
   "id": "8a57125a",
   "metadata": {},
   "outputs": [],
   "source": [
    "lm_RFE = LinearRegression()"
   ]
  },
  {
   "cell_type": "code",
   "execution_count": 53,
   "id": "e8b760fc",
   "metadata": {},
   "outputs": [
    {
     "data": {
      "text/html": [
       "<style>#sk-container-id-1 {\n",
       "  /* Definition of color scheme common for light and dark mode */\n",
       "  --sklearn-color-text: black;\n",
       "  --sklearn-color-line: gray;\n",
       "  /* Definition of color scheme for unfitted estimators */\n",
       "  --sklearn-color-unfitted-level-0: #fff5e6;\n",
       "  --sklearn-color-unfitted-level-1: #f6e4d2;\n",
       "  --sklearn-color-unfitted-level-2: #ffe0b3;\n",
       "  --sklearn-color-unfitted-level-3: chocolate;\n",
       "  /* Definition of color scheme for fitted estimators */\n",
       "  --sklearn-color-fitted-level-0: #f0f8ff;\n",
       "  --sklearn-color-fitted-level-1: #d4ebff;\n",
       "  --sklearn-color-fitted-level-2: #b3dbfd;\n",
       "  --sklearn-color-fitted-level-3: cornflowerblue;\n",
       "\n",
       "  /* Specific color for light theme */\n",
       "  --sklearn-color-text-on-default-background: var(--sg-text-color, var(--theme-code-foreground, var(--jp-content-font-color1, black)));\n",
       "  --sklearn-color-background: var(--sg-background-color, var(--theme-background, var(--jp-layout-color0, white)));\n",
       "  --sklearn-color-border-box: var(--sg-text-color, var(--theme-code-foreground, var(--jp-content-font-color1, black)));\n",
       "  --sklearn-color-icon: #696969;\n",
       "\n",
       "  @media (prefers-color-scheme: dark) {\n",
       "    /* Redefinition of color scheme for dark theme */\n",
       "    --sklearn-color-text-on-default-background: var(--sg-text-color, var(--theme-code-foreground, var(--jp-content-font-color1, white)));\n",
       "    --sklearn-color-background: var(--sg-background-color, var(--theme-background, var(--jp-layout-color0, #111)));\n",
       "    --sklearn-color-border-box: var(--sg-text-color, var(--theme-code-foreground, var(--jp-content-font-color1, white)));\n",
       "    --sklearn-color-icon: #878787;\n",
       "  }\n",
       "}\n",
       "\n",
       "#sk-container-id-1 {\n",
       "  color: var(--sklearn-color-text);\n",
       "}\n",
       "\n",
       "#sk-container-id-1 pre {\n",
       "  padding: 0;\n",
       "}\n",
       "\n",
       "#sk-container-id-1 input.sk-hidden--visually {\n",
       "  border: 0;\n",
       "  clip: rect(1px 1px 1px 1px);\n",
       "  clip: rect(1px, 1px, 1px, 1px);\n",
       "  height: 1px;\n",
       "  margin: -1px;\n",
       "  overflow: hidden;\n",
       "  padding: 0;\n",
       "  position: absolute;\n",
       "  width: 1px;\n",
       "}\n",
       "\n",
       "#sk-container-id-1 div.sk-dashed-wrapped {\n",
       "  border: 1px dashed var(--sklearn-color-line);\n",
       "  margin: 0 0.4em 0.5em 0.4em;\n",
       "  box-sizing: border-box;\n",
       "  padding-bottom: 0.4em;\n",
       "  background-color: var(--sklearn-color-background);\n",
       "}\n",
       "\n",
       "#sk-container-id-1 div.sk-container {\n",
       "  /* jupyter's `normalize.less` sets `[hidden] { display: none; }`\n",
       "     but bootstrap.min.css set `[hidden] { display: none !important; }`\n",
       "     so we also need the `!important` here to be able to override the\n",
       "     default hidden behavior on the sphinx rendered scikit-learn.org.\n",
       "     See: https://github.com/scikit-learn/scikit-learn/issues/21755 */\n",
       "  display: inline-block !important;\n",
       "  position: relative;\n",
       "}\n",
       "\n",
       "#sk-container-id-1 div.sk-text-repr-fallback {\n",
       "  display: none;\n",
       "}\n",
       "\n",
       "div.sk-parallel-item,\n",
       "div.sk-serial,\n",
       "div.sk-item {\n",
       "  /* draw centered vertical line to link estimators */\n",
       "  background-image: linear-gradient(var(--sklearn-color-text-on-default-background), var(--sklearn-color-text-on-default-background));\n",
       "  background-size: 2px 100%;\n",
       "  background-repeat: no-repeat;\n",
       "  background-position: center center;\n",
       "}\n",
       "\n",
       "/* Parallel-specific style estimator block */\n",
       "\n",
       "#sk-container-id-1 div.sk-parallel-item::after {\n",
       "  content: \"\";\n",
       "  width: 100%;\n",
       "  border-bottom: 2px solid var(--sklearn-color-text-on-default-background);\n",
       "  flex-grow: 1;\n",
       "}\n",
       "\n",
       "#sk-container-id-1 div.sk-parallel {\n",
       "  display: flex;\n",
       "  align-items: stretch;\n",
       "  justify-content: center;\n",
       "  background-color: var(--sklearn-color-background);\n",
       "  position: relative;\n",
       "}\n",
       "\n",
       "#sk-container-id-1 div.sk-parallel-item {\n",
       "  display: flex;\n",
       "  flex-direction: column;\n",
       "}\n",
       "\n",
       "#sk-container-id-1 div.sk-parallel-item:first-child::after {\n",
       "  align-self: flex-end;\n",
       "  width: 50%;\n",
       "}\n",
       "\n",
       "#sk-container-id-1 div.sk-parallel-item:last-child::after {\n",
       "  align-self: flex-start;\n",
       "  width: 50%;\n",
       "}\n",
       "\n",
       "#sk-container-id-1 div.sk-parallel-item:only-child::after {\n",
       "  width: 0;\n",
       "}\n",
       "\n",
       "/* Serial-specific style estimator block */\n",
       "\n",
       "#sk-container-id-1 div.sk-serial {\n",
       "  display: flex;\n",
       "  flex-direction: column;\n",
       "  align-items: center;\n",
       "  background-color: var(--sklearn-color-background);\n",
       "  padding-right: 1em;\n",
       "  padding-left: 1em;\n",
       "}\n",
       "\n",
       "\n",
       "/* Toggleable style: style used for estimator/Pipeline/ColumnTransformer box that is\n",
       "clickable and can be expanded/collapsed.\n",
       "- Pipeline and ColumnTransformer use this feature and define the default style\n",
       "- Estimators will overwrite some part of the style using the `sk-estimator` class\n",
       "*/\n",
       "\n",
       "/* Pipeline and ColumnTransformer style (default) */\n",
       "\n",
       "#sk-container-id-1 div.sk-toggleable {\n",
       "  /* Default theme specific background. It is overwritten whether we have a\n",
       "  specific estimator or a Pipeline/ColumnTransformer */\n",
       "  background-color: var(--sklearn-color-background);\n",
       "}\n",
       "\n",
       "/* Toggleable label */\n",
       "#sk-container-id-1 label.sk-toggleable__label {\n",
       "  cursor: pointer;\n",
       "  display: block;\n",
       "  width: 100%;\n",
       "  margin-bottom: 0;\n",
       "  padding: 0.5em;\n",
       "  box-sizing: border-box;\n",
       "  text-align: center;\n",
       "}\n",
       "\n",
       "#sk-container-id-1 label.sk-toggleable__label-arrow:before {\n",
       "  /* Arrow on the left of the label */\n",
       "  content: \"▸\";\n",
       "  float: left;\n",
       "  margin-right: 0.25em;\n",
       "  color: var(--sklearn-color-icon);\n",
       "}\n",
       "\n",
       "#sk-container-id-1 label.sk-toggleable__label-arrow:hover:before {\n",
       "  color: var(--sklearn-color-text);\n",
       "}\n",
       "\n",
       "/* Toggleable content - dropdown */\n",
       "\n",
       "#sk-container-id-1 div.sk-toggleable__content {\n",
       "  max-height: 0;\n",
       "  max-width: 0;\n",
       "  overflow: hidden;\n",
       "  text-align: left;\n",
       "  /* unfitted */\n",
       "  background-color: var(--sklearn-color-unfitted-level-0);\n",
       "}\n",
       "\n",
       "#sk-container-id-1 div.sk-toggleable__content.fitted {\n",
       "  /* fitted */\n",
       "  background-color: var(--sklearn-color-fitted-level-0);\n",
       "}\n",
       "\n",
       "#sk-container-id-1 div.sk-toggleable__content pre {\n",
       "  margin: 0.2em;\n",
       "  border-radius: 0.25em;\n",
       "  color: var(--sklearn-color-text);\n",
       "  /* unfitted */\n",
       "  background-color: var(--sklearn-color-unfitted-level-0);\n",
       "}\n",
       "\n",
       "#sk-container-id-1 div.sk-toggleable__content.fitted pre {\n",
       "  /* unfitted */\n",
       "  background-color: var(--sklearn-color-fitted-level-0);\n",
       "}\n",
       "\n",
       "#sk-container-id-1 input.sk-toggleable__control:checked~div.sk-toggleable__content {\n",
       "  /* Expand drop-down */\n",
       "  max-height: 200px;\n",
       "  max-width: 100%;\n",
       "  overflow: auto;\n",
       "}\n",
       "\n",
       "#sk-container-id-1 input.sk-toggleable__control:checked~label.sk-toggleable__label-arrow:before {\n",
       "  content: \"▾\";\n",
       "}\n",
       "\n",
       "/* Pipeline/ColumnTransformer-specific style */\n",
       "\n",
       "#sk-container-id-1 div.sk-label input.sk-toggleable__control:checked~label.sk-toggleable__label {\n",
       "  color: var(--sklearn-color-text);\n",
       "  background-color: var(--sklearn-color-unfitted-level-2);\n",
       "}\n",
       "\n",
       "#sk-container-id-1 div.sk-label.fitted input.sk-toggleable__control:checked~label.sk-toggleable__label {\n",
       "  background-color: var(--sklearn-color-fitted-level-2);\n",
       "}\n",
       "\n",
       "/* Estimator-specific style */\n",
       "\n",
       "/* Colorize estimator box */\n",
       "#sk-container-id-1 div.sk-estimator input.sk-toggleable__control:checked~label.sk-toggleable__label {\n",
       "  /* unfitted */\n",
       "  background-color: var(--sklearn-color-unfitted-level-2);\n",
       "}\n",
       "\n",
       "#sk-container-id-1 div.sk-estimator.fitted input.sk-toggleable__control:checked~label.sk-toggleable__label {\n",
       "  /* fitted */\n",
       "  background-color: var(--sklearn-color-fitted-level-2);\n",
       "}\n",
       "\n",
       "#sk-container-id-1 div.sk-label label.sk-toggleable__label,\n",
       "#sk-container-id-1 div.sk-label label {\n",
       "  /* The background is the default theme color */\n",
       "  color: var(--sklearn-color-text-on-default-background);\n",
       "}\n",
       "\n",
       "/* On hover, darken the color of the background */\n",
       "#sk-container-id-1 div.sk-label:hover label.sk-toggleable__label {\n",
       "  color: var(--sklearn-color-text);\n",
       "  background-color: var(--sklearn-color-unfitted-level-2);\n",
       "}\n",
       "\n",
       "/* Label box, darken color on hover, fitted */\n",
       "#sk-container-id-1 div.sk-label.fitted:hover label.sk-toggleable__label.fitted {\n",
       "  color: var(--sklearn-color-text);\n",
       "  background-color: var(--sklearn-color-fitted-level-2);\n",
       "}\n",
       "\n",
       "/* Estimator label */\n",
       "\n",
       "#sk-container-id-1 div.sk-label label {\n",
       "  font-family: monospace;\n",
       "  font-weight: bold;\n",
       "  display: inline-block;\n",
       "  line-height: 1.2em;\n",
       "}\n",
       "\n",
       "#sk-container-id-1 div.sk-label-container {\n",
       "  text-align: center;\n",
       "}\n",
       "\n",
       "/* Estimator-specific */\n",
       "#sk-container-id-1 div.sk-estimator {\n",
       "  font-family: monospace;\n",
       "  border: 1px dotted var(--sklearn-color-border-box);\n",
       "  border-radius: 0.25em;\n",
       "  box-sizing: border-box;\n",
       "  margin-bottom: 0.5em;\n",
       "  /* unfitted */\n",
       "  background-color: var(--sklearn-color-unfitted-level-0);\n",
       "}\n",
       "\n",
       "#sk-container-id-1 div.sk-estimator.fitted {\n",
       "  /* fitted */\n",
       "  background-color: var(--sklearn-color-fitted-level-0);\n",
       "}\n",
       "\n",
       "/* on hover */\n",
       "#sk-container-id-1 div.sk-estimator:hover {\n",
       "  /* unfitted */\n",
       "  background-color: var(--sklearn-color-unfitted-level-2);\n",
       "}\n",
       "\n",
       "#sk-container-id-1 div.sk-estimator.fitted:hover {\n",
       "  /* fitted */\n",
       "  background-color: var(--sklearn-color-fitted-level-2);\n",
       "}\n",
       "\n",
       "/* Specification for estimator info (e.g. \"i\" and \"?\") */\n",
       "\n",
       "/* Common style for \"i\" and \"?\" */\n",
       "\n",
       ".sk-estimator-doc-link,\n",
       "a:link.sk-estimator-doc-link,\n",
       "a:visited.sk-estimator-doc-link {\n",
       "  float: right;\n",
       "  font-size: smaller;\n",
       "  line-height: 1em;\n",
       "  font-family: monospace;\n",
       "  background-color: var(--sklearn-color-background);\n",
       "  border-radius: 1em;\n",
       "  height: 1em;\n",
       "  width: 1em;\n",
       "  text-decoration: none !important;\n",
       "  margin-left: 1ex;\n",
       "  /* unfitted */\n",
       "  border: var(--sklearn-color-unfitted-level-1) 1pt solid;\n",
       "  color: var(--sklearn-color-unfitted-level-1);\n",
       "}\n",
       "\n",
       ".sk-estimator-doc-link.fitted,\n",
       "a:link.sk-estimator-doc-link.fitted,\n",
       "a:visited.sk-estimator-doc-link.fitted {\n",
       "  /* fitted */\n",
       "  border: var(--sklearn-color-fitted-level-1) 1pt solid;\n",
       "  color: var(--sklearn-color-fitted-level-1);\n",
       "}\n",
       "\n",
       "/* On hover */\n",
       "div.sk-estimator:hover .sk-estimator-doc-link:hover,\n",
       ".sk-estimator-doc-link:hover,\n",
       "div.sk-label-container:hover .sk-estimator-doc-link:hover,\n",
       ".sk-estimator-doc-link:hover {\n",
       "  /* unfitted */\n",
       "  background-color: var(--sklearn-color-unfitted-level-3);\n",
       "  color: var(--sklearn-color-background);\n",
       "  text-decoration: none;\n",
       "}\n",
       "\n",
       "div.sk-estimator.fitted:hover .sk-estimator-doc-link.fitted:hover,\n",
       ".sk-estimator-doc-link.fitted:hover,\n",
       "div.sk-label-container:hover .sk-estimator-doc-link.fitted:hover,\n",
       ".sk-estimator-doc-link.fitted:hover {\n",
       "  /* fitted */\n",
       "  background-color: var(--sklearn-color-fitted-level-3);\n",
       "  color: var(--sklearn-color-background);\n",
       "  text-decoration: none;\n",
       "}\n",
       "\n",
       "/* Span, style for the box shown on hovering the info icon */\n",
       ".sk-estimator-doc-link span {\n",
       "  display: none;\n",
       "  z-index: 9999;\n",
       "  position: relative;\n",
       "  font-weight: normal;\n",
       "  right: .2ex;\n",
       "  padding: .5ex;\n",
       "  margin: .5ex;\n",
       "  width: min-content;\n",
       "  min-width: 20ex;\n",
       "  max-width: 50ex;\n",
       "  color: var(--sklearn-color-text);\n",
       "  box-shadow: 2pt 2pt 4pt #999;\n",
       "  /* unfitted */\n",
       "  background: var(--sklearn-color-unfitted-level-0);\n",
       "  border: .5pt solid var(--sklearn-color-unfitted-level-3);\n",
       "}\n",
       "\n",
       ".sk-estimator-doc-link.fitted span {\n",
       "  /* fitted */\n",
       "  background: var(--sklearn-color-fitted-level-0);\n",
       "  border: var(--sklearn-color-fitted-level-3);\n",
       "}\n",
       "\n",
       ".sk-estimator-doc-link:hover span {\n",
       "  display: block;\n",
       "}\n",
       "\n",
       "/* \"?\"-specific style due to the `<a>` HTML tag */\n",
       "\n",
       "#sk-container-id-1 a.estimator_doc_link {\n",
       "  float: right;\n",
       "  font-size: 1rem;\n",
       "  line-height: 1em;\n",
       "  font-family: monospace;\n",
       "  background-color: var(--sklearn-color-background);\n",
       "  border-radius: 1rem;\n",
       "  height: 1rem;\n",
       "  width: 1rem;\n",
       "  text-decoration: none;\n",
       "  /* unfitted */\n",
       "  color: var(--sklearn-color-unfitted-level-1);\n",
       "  border: var(--sklearn-color-unfitted-level-1) 1pt solid;\n",
       "}\n",
       "\n",
       "#sk-container-id-1 a.estimator_doc_link.fitted {\n",
       "  /* fitted */\n",
       "  border: var(--sklearn-color-fitted-level-1) 1pt solid;\n",
       "  color: var(--sklearn-color-fitted-level-1);\n",
       "}\n",
       "\n",
       "/* On hover */\n",
       "#sk-container-id-1 a.estimator_doc_link:hover {\n",
       "  /* unfitted */\n",
       "  background-color: var(--sklearn-color-unfitted-level-3);\n",
       "  color: var(--sklearn-color-background);\n",
       "  text-decoration: none;\n",
       "}\n",
       "\n",
       "#sk-container-id-1 a.estimator_doc_link.fitted:hover {\n",
       "  /* fitted */\n",
       "  background-color: var(--sklearn-color-fitted-level-3);\n",
       "}\n",
       "</style><div id=\"sk-container-id-1\" class=\"sk-top-container\"><div class=\"sk-text-repr-fallback\"><pre>LinearRegression()</pre><b>In a Jupyter environment, please rerun this cell to show the HTML representation or trust the notebook. <br />On GitHub, the HTML representation is unable to render, please try loading this page with nbviewer.org.</b></div><div class=\"sk-container\" hidden><div class=\"sk-item\"><div class=\"sk-estimator fitted sk-toggleable\"><input class=\"sk-toggleable__control sk-hidden--visually\" id=\"sk-estimator-id-1\" type=\"checkbox\" checked><label for=\"sk-estimator-id-1\" class=\"sk-toggleable__label fitted sk-toggleable__label-arrow fitted\">&nbsp;&nbsp;LinearRegression<a class=\"sk-estimator-doc-link fitted\" rel=\"noreferrer\" target=\"_blank\" href=\"https://scikit-learn.org/1.5/modules/generated/sklearn.linear_model.LinearRegression.html\">?<span>Documentation for LinearRegression</span></a><span class=\"sk-estimator-doc-link fitted\">i<span>Fitted</span></span></label><div class=\"sk-toggleable__content fitted\"><pre>LinearRegression()</pre></div> </div></div></div></div>"
      ],
      "text/plain": [
       "LinearRegression()"
      ]
     },
     "execution_count": 53,
     "metadata": {},
     "output_type": "execute_result"
    }
   ],
   "source": [
    "lm_RFE.fit(a_X_train, a_y_train)"
   ]
  },
  {
   "cell_type": "code",
   "execution_count": 54,
   "id": "d8878913",
   "metadata": {},
   "outputs": [
    {
     "data": {
      "text/plain": [
       "8"
      ]
     },
     "execution_count": 54,
     "metadata": {},
     "output_type": "execute_result"
    }
   ],
   "source": [
    "len(a_X_train.columns)"
   ]
  },
  {
   "cell_type": "markdown",
   "id": "ee78aeea",
   "metadata": {},
   "source": [
    "6 bağımsız değişken seçelim."
   ]
  },
  {
   "cell_type": "code",
   "execution_count": 55,
   "id": "cc0d4a7d",
   "metadata": {},
   "outputs": [],
   "source": [
    "rfe = RFE(lm_RFE, n_features_to_select = 6)\n",
    "rfe = rfe.fit(a_X_train, a_y_train)"
   ]
  },
  {
   "cell_type": "markdown",
   "id": "bbdebbbd",
   "metadata": {},
   "source": [
    "RFE'nin seçtiği değişkenler aşağıdaki gibi görülebilir."
   ]
  },
  {
   "cell_type": "code",
   "execution_count": 56,
   "id": "632462e4",
   "metadata": {},
   "outputs": [
    {
     "data": {
      "text/plain": [
       "[('Sex', False, 3),\n",
       " ('Length', False, 2),\n",
       " ('Diameter', True, 1),\n",
       " ('Height', True, 1),\n",
       " ('Whole weight', True, 1),\n",
       " ('Shucked weight', True, 1),\n",
       " ('Viscera weight', True, 1),\n",
       " ('Shell weight', True, 1)]"
      ]
     },
     "execution_count": 56,
     "metadata": {},
     "output_type": "execute_result"
    }
   ],
   "source": [
    "list(zip(a_X_train.columns, rfe.support_, rfe.ranking_))"
   ]
  },
  {
   "cell_type": "markdown",
   "id": "cf3af084",
   "metadata": {},
   "source": [
    "Seçtiğimiz değişkenlerle tahminlerde bulunalım."
   ]
  },
  {
   "cell_type": "code",
   "execution_count": 57,
   "id": "6d37357a",
   "metadata": {},
   "outputs": [],
   "source": [
    "y_pred_train = rfe.predict(a_X_train)\n",
    "y_pred_test = rfe.predict(a_X_test)"
   ]
  },
  {
   "cell_type": "markdown",
   "id": "1df94f43",
   "metadata": {},
   "source": [
    "RMSE ve MAPE değerini aşağıdaki fonksiyon ile hesaplayabiliriz."
   ]
  },
  {
   "cell_type": "code",
   "execution_count": 58,
   "id": "e6c91258",
   "metadata": {},
   "outputs": [],
   "source": [
    "def RMSE(actual, predicted):\n",
    "    MSE = mean_squared_error(actual, predicted)\n",
    "    RMSE = np.sqrt(MSE)\n",
    "    return RMSE"
   ]
  },
  {
   "cell_type": "code",
   "execution_count": 59,
   "id": "31c48093",
   "metadata": {},
   "outputs": [],
   "source": [
    "def MAE(actual, predicted):\n",
    "    MAE = np.mean(np.abs((actual - predicted)))\n",
    "    return MAE"
   ]
  },
  {
   "cell_type": "code",
   "execution_count": 60,
   "id": "1513f23a",
   "metadata": {},
   "outputs": [],
   "source": [
    "def MAPE(actual, predicted):\n",
    "    MAPE = np.mean(np.abs((actual - predicted) / actual))\n",
    "    return MAPE"
   ]
  },
  {
   "cell_type": "markdown",
   "id": "d2176669",
   "metadata": {},
   "source": [
    "Hem gerçek hem de tahmin değerleri normalleştrilmiş olduğundan normalizayon işleminin tersini almamıza gerek yok. Eğer almak isteseydik Minmax normalizayonunun tersi aşağıdaki gibi alınabilir."
   ]
  },
  {
   "cell_type": "code",
   "execution_count": 61,
   "id": "97dbdd52",
   "metadata": {},
   "outputs": [],
   "source": [
    "#y_pred_train_inv = y_pred_train * (max(y_pred_train) - min(y_pred_train)) + min(y_pred_train)\n",
    "#y_pred_test_inv = y_pred_test * (max(y_pred_test) - min(y_pred_test)) + min(y_pred_test)"
   ]
  },
  {
   "cell_type": "markdown",
   "id": "474bbb55",
   "metadata": {},
   "source": [
    "Eğitim seti tahminleri için RMSE ve $R^2$ değerlerinde bakalım. \n",
    "RMSE, değeri büyük değil. 0'a yakınlık modelin uyumunun fazla olduğu anlamına geliyor.\n",
    "$R^2$ değeri kötüdür. Model iyi tahmin yapamamaktadır. İlişkinin yaklaşık olarak %50'sini açıklayabilmektedir."
   ]
  },
  {
   "cell_type": "code",
   "execution_count": 62,
   "id": "8c15c0d9",
   "metadata": {},
   "outputs": [
    {
     "name": "stdout",
     "output_type": "stream",
     "text": [
      "0.09506914022944844\n"
     ]
    }
   ],
   "source": [
    "RMSE_lm_train = RMSE(a_y_train, y_pred_train)\n",
    "print(RMSE_lm_train)"
   ]
  },
  {
   "cell_type": "code",
   "execution_count": 63,
   "id": "91db5947",
   "metadata": {},
   "outputs": [
    {
     "data": {
      "text/plain": [
       "0.4939568443999556"
      ]
     },
     "execution_count": 63,
     "metadata": {},
     "output_type": "execute_result"
    }
   ],
   "source": [
    "R2_lm_train = r2_score(a_y_train, y_pred_train)\n",
    "R2_lm_train"
   ]
  },
  {
   "cell_type": "markdown",
   "id": "026bdd57",
   "metadata": {},
   "source": [
    "Test seti tahminleri için RMSE ve $R^2$ değerlerinde bakalım. \n",
    "Değerler için eğitim setiyle aynı yorumlarda bulunabiliriz.   \n",
    "Ayrıca yaptığımız MAE değeri de büyük değil. 0'a yakınlık modelin uyumunun fazla olduğu anlamına geliyor."
   ]
  },
  {
   "cell_type": "code",
   "execution_count": 64,
   "id": "99fe140f",
   "metadata": {},
   "outputs": [
    {
     "name": "stdout",
     "output_type": "stream",
     "text": [
      "0.09340857882340643\n"
     ]
    }
   ],
   "source": [
    "RMSE_lm_test = RMSE(a_y_test, y_pred_test)\n",
    "print(RMSE_lm_test)"
   ]
  },
  {
   "cell_type": "code",
   "execution_count": 65,
   "id": "c0e02ed7",
   "metadata": {},
   "outputs": [
    {
     "data": {
      "text/plain": [
       "0.5018197912233097"
      ]
     },
     "execution_count": 65,
     "metadata": {},
     "output_type": "execute_result"
    }
   ],
   "source": [
    "R2_lm_test = r2_score(a_y_test, y_pred_test)\n",
    "R2_lm_test"
   ]
  },
  {
   "cell_type": "code",
   "execution_count": 66,
   "id": "0a452a48",
   "metadata": {},
   "outputs": [
    {
     "data": {
      "text/plain": [
       "0.066177457242716"
      ]
     },
     "execution_count": 66,
     "metadata": {},
     "output_type": "execute_result"
    }
   ],
   "source": [
    "MAE_lm_test = MAE(a_y_test, y_pred_test)\n",
    "MAE_lm_test"
   ]
  },
  {
   "cell_type": "markdown",
   "id": "64b8ada3",
   "metadata": {},
   "source": [
    "Test setinden tahmin edilen değişkenleri ve hata değerlerini görselleştirelim. \n",
    "Büyük bir hata oranına sahip olduğunu söyleyebiliriz."
   ]
  },
  {
   "cell_type": "code",
   "execution_count": 67,
   "id": "9bbf39e6",
   "metadata": {},
   "outputs": [],
   "source": [
    "def plot_residuals(actual, predicted):\n",
    "    residuals = actual - predicted\n",
    "    sns.residplot(x=actual, y=residuals, lowess = True, line_kws=dict(color=\"darkred\"))\n",
    "    plt.title('Residual Plot')\n",
    "    plt.xlabel('Predicted Age')\n",
    "    plt.ylabel('Residuals')\n",
    "    plt.show()"
   ]
  },
  {
   "cell_type": "code",
   "execution_count": 68,
   "id": "43bf6102",
   "metadata": {},
   "outputs": [
    {
     "data": {
      "image/png": "[encoded data removed]",
      "text/plain": [
       "<Figure size 640x480 with 1 Axes>"
      ]
     },
     "metadata": {},
     "output_type": "display_data"
    }
   ],
   "source": [
    "plot_residuals(a_y_test, y_pred_test)"
   ]
  },
  {
   "cell_type": "markdown",
   "id": "43bec3a1",
   "metadata": {},
   "source": [
    "### 2.2.K-Fold\n",
    "&nbsp;<sup>[İçeriğe git.](#İçerik)</sup>"
   ]
  },
  {
   "cell_type": "markdown",
   "id": "2420e8e9",
   "metadata": {},
   "source": [
    "K-fold ile subsetler oluşturup cross_val_score ile performansına bakalım."
   ]
  },
  {
   "cell_type": "code",
   "execution_count": 69,
   "id": "e400ffc1",
   "metadata": {},
   "outputs": [],
   "source": [
    "folds = KFold(n_splits = 5, shuffle = True, random_state = 121521014)"
   ]
  },
  {
   "cell_type": "markdown",
   "id": "3dc6781e",
   "metadata": {},
   "source": [
    "$R^2$ değerleri her subset için aşağıdaki gibidir. Performans oldukça düşüktür."
   ]
  },
  {
   "cell_type": "code",
   "execution_count": 70,
   "id": "5289004d",
   "metadata": {},
   "outputs": [
    {
     "data": {
      "text/plain": [
       "array([0.48456065, 0.51201015, 0.43860337, 0.52463094, 0.44717822])"
      ]
     },
     "execution_count": 70,
     "metadata": {},
     "output_type": "execute_result"
    }
   ],
   "source": [
    "lm_CV0 = LinearRegression()\n",
    "scores_CV0 = cross_val_score(lm_CV0, a_X_train, a_y_train,\n",
    "    scoring='r2', cv=folds)\n",
    "scores_CV0"
   ]
  },
  {
   "cell_type": "markdown",
   "id": "44906703",
   "metadata": {},
   "source": [
    "MSE, değerleri büyük değil. 0'a yakınlık modelin uyumunun fazla olduğu anlamına geliyor."
   ]
  },
  {
   "cell_type": "code",
   "execution_count": 71,
   "id": "700115c8",
   "metadata": {},
   "outputs": [
    {
     "data": {
      "text/plain": [
       "array([-0.00903091, -0.01014118, -0.00976259, -0.00804762, -0.00913481])"
      ]
     },
     "execution_count": 71,
     "metadata": {},
     "output_type": "execute_result"
    }
   ],
   "source": [
    "lm_CV1 = LinearRegression()\n",
    "scores_CV2 = cross_val_score(lm_CV1, a_X_train, a_y_train,\n",
    "    scoring='neg_mean_squared_error', cv=folds)\n",
    "scores_CV2"
   ]
  },
  {
   "cell_type": "markdown",
   "id": "f33f1021",
   "metadata": {},
   "source": [
    "#### 2.3.Grid Search Cross-Validation ile Hiperparametre Ayarlama\n",
    "&nbsp;<sup>[İçeriğe git.](#İçerik)</sup>"
   ]
  },
  {
   "cell_type": "markdown",
   "id": "2e39043e",
   "metadata": {},
   "source": [
    "Çapraz doğrulamada kullanacağımız subsetleri oluşturalım."
   ]
  },
  {
   "cell_type": "code",
   "execution_count": 72,
   "id": "586c4c08",
   "metadata": {},
   "outputs": [],
   "source": [
    "fold_CVGS = KFold(n_splits=5, shuffle=True, random_state=121521014)"
   ]
  },
  {
   "cell_type": "markdown",
   "id": "ec6105a2",
   "metadata": {},
   "source": [
    "Seçilecek bağımsız değişken sayısını belirlemek için ilgili hiperparametrenin potansiyel değerlerini belirleyelim."
   ]
  },
  {
   "cell_type": "code",
   "execution_count": 73,
   "id": "426b3112",
   "metadata": {},
   "outputs": [],
   "source": [
    "hyper_params_CVGS = [{\"n_features_to_select\": list(range(1, 9))}]"
   ]
  },
  {
   "cell_type": "markdown",
   "id": "4f3f8138",
   "metadata": {},
   "source": [
    "Doğrusal regresyon modelini oluşturup fit ettikten sonra RFE yöntemini de kullanarak bir GridSearch modeli oluşturalım."
   ]
  },
  {
   "cell_type": "code",
   "execution_count": 74,
   "id": "2d0e821c",
   "metadata": {},
   "outputs": [],
   "source": [
    "lm_CVGS = LinearRegression()\n",
    "lm_CVGS.fit(a_X_train, a_y_train)\n",
    "rfe_CVGS = RFE(lm_CVGS)"
   ]
  },
  {
   "cell_type": "code",
   "execution_count": 75,
   "id": "17ab0d8b",
   "metadata": {},
   "outputs": [],
   "source": [
    "model_CVGS = GridSearchCV(estimator = rfe_CVGS,\n",
    "                         param_grid= hyper_params_CVGS,\n",
    "                         scoring=\"r2\",\n",
    "                         cv=fold_CVGS,\n",
    "                         verbose=1,\n",
    "                         return_train_score=True)"
   ]
  },
  {
   "cell_type": "markdown",
   "id": "53c5a5e2",
   "metadata": {},
   "source": [
    "Modeli fit edelim."
   ]
  },
  {
   "cell_type": "code",
   "execution_count": 76,
   "id": "e3780089",
   "metadata": {},
   "outputs": [
    {
     "name": "stdout",
     "output_type": "stream",
     "text": [
      "Fitting 5 folds for each of 8 candidates, totalling 40 fits\n"
     ]
    },
    {
     "data": {
      "text/html": [
       "<style>#sk-container-id-2 {\n",
       "  /* Definition of color scheme common for light and dark mode */\n",
       "  --sklearn-color-text: black;\n",
       "  --sklearn-color-line: gray;\n",
       "  /* Definition of color scheme for unfitted estimators */\n",
       "  --sklearn-color-unfitted-level-0: #fff5e6;\n",
       "  --sklearn-color-unfitted-level-1: #f6e4d2;\n",
       "  --sklearn-color-unfitted-level-2: #ffe0b3;\n",
       "  --sklearn-color-unfitted-level-3: chocolate;\n",
       "  /* Definition of color scheme for fitted estimators */\n",
       "  --sklearn-color-fitted-level-0: #f0f8ff;\n",
       "  --sklearn-color-fitted-level-1: #d4ebff;\n",
       "  --sklearn-color-fitted-level-2: #b3dbfd;\n",
       "  --sklearn-color-fitted-level-3: cornflowerblue;\n",
       "\n",
       "  /* Specific color for light theme */\n",
       "  --sklearn-color-text-on-default-background: var(--sg-text-color, var(--theme-code-foreground, var(--jp-content-font-color1, black)));\n",
       "  --sklearn-color-background: var(--sg-background-color, var(--theme-background, var(--jp-layout-color0, white)));\n",
       "  --sklearn-color-border-box: var(--sg-text-color, var(--theme-code-foreground, var(--jp-content-font-color1, black)));\n",
       "  --sklearn-color-icon: #696969;\n",
       "\n",
       "  @media (prefers-color-scheme: dark) {\n",
       "    /* Redefinition of color scheme for dark theme */\n",
       "    --sklearn-color-text-on-default-background: var(--sg-text-color, var(--theme-code-foreground, var(--jp-content-font-color1, white)));\n",
       "    --sklearn-color-background: var(--sg-background-color, var(--theme-background, var(--jp-layout-color0, #111)));\n",
       "    --sklearn-color-border-box: var(--sg-text-color, var(--theme-code-foreground, var(--jp-content-font-color1, white)));\n",
       "    --sklearn-color-icon: #878787;\n",
       "  }\n",
       "}\n",
       "\n",
       "#sk-container-id-2 {\n",
       "  color: var(--sklearn-color-text);\n",
       "}\n",
       "\n",
       "#sk-container-id-2 pre {\n",
       "  padding: 0;\n",
       "}\n",
       "\n",
       "#sk-container-id-2 input.sk-hidden--visually {\n",
       "  border: 0;\n",
       "  clip: rect(1px 1px 1px 1px);\n",
       "  clip: rect(1px, 1px, 1px, 1px);\n",
       "  height: 1px;\n",
       "  margin: -1px;\n",
       "  overflow: hidden;\n",
       "  padding: 0;\n",
       "  position: absolute;\n",
       "  width: 1px;\n",
       "}\n",
       "\n",
       "#sk-container-id-2 div.sk-dashed-wrapped {\n",
       "  border: 1px dashed var(--sklearn-color-line);\n",
       "  margin: 0 0.4em 0.5em 0.4em;\n",
       "  box-sizing: border-box;\n",
       "  padding-bottom: 0.4em;\n",
       "  background-color: var(--sklearn-color-background);\n",
       "}\n",
       "\n",
       "#sk-container-id-2 div.sk-container {\n",
       "  /* jupyter's `normalize.less` sets `[hidden] { display: none; }`\n",
       "     but bootstrap.min.css set `[hidden] { display: none !important; }`\n",
       "     so we also need the `!important` here to be able to override the\n",
       "     default hidden behavior on the sphinx rendered scikit-learn.org.\n",
       "     See: https://github.com/scikit-learn/scikit-learn/issues/21755 */\n",
       "  display: inline-block !important;\n",
       "  position: relative;\n",
       "}\n",
       "\n",
       "#sk-container-id-2 div.sk-text-repr-fallback {\n",
       "  display: none;\n",
       "}\n",
       "\n",
       "div.sk-parallel-item,\n",
       "div.sk-serial,\n",
       "div.sk-item {\n",
       "  /* draw centered vertical line to link estimators */\n",
       "  background-image: linear-gradient(var(--sklearn-color-text-on-default-background), var(--sklearn-color-text-on-default-background));\n",
       "  background-size: 2px 100%;\n",
       "  background-repeat: no-repeat;\n",
       "  background-position: center center;\n",
       "}\n",
       "\n",
       "/* Parallel-specific style estimator block */\n",
       "\n",
       "#sk-container-id-2 div.sk-parallel-item::after {\n",
       "  content: \"\";\n",
       "  width: 100%;\n",
       "  border-bottom: 2px solid var(--sklearn-color-text-on-default-background);\n",
       "  flex-grow: 1;\n",
       "}\n",
       "\n",
       "#sk-container-id-2 div.sk-parallel {\n",
       "  display: flex;\n",
       "  align-items: stretch;\n",
       "  justify-content: center;\n",
       "  background-color: var(--sklearn-color-background);\n",
       "  position: relative;\n",
       "}\n",
       "\n",
       "#sk-container-id-2 div.sk-parallel-item {\n",
       "  display: flex;\n",
       "  flex-direction: column;\n",
       "}\n",
       "\n",
       "#sk-container-id-2 div.sk-parallel-item:first-child::after {\n",
       "  align-self: flex-end;\n",
       "  width: 50%;\n",
       "}\n",
       "\n",
       "#sk-container-id-2 div.sk-parallel-item:last-child::after {\n",
       "  align-self: flex-start;\n",
       "  width: 50%;\n",
       "}\n",
       "\n",
       "#sk-container-id-2 div.sk-parallel-item:only-child::after {\n",
       "  width: 0;\n",
       "}\n",
       "\n",
       "/* Serial-specific style estimator block */\n",
       "\n",
       "#sk-container-id-2 div.sk-serial {\n",
       "  display: flex;\n",
       "  flex-direction: column;\n",
       "  align-items: center;\n",
       "  background-color: var(--sklearn-color-background);\n",
       "  padding-right: 1em;\n",
       "  padding-left: 1em;\n",
       "}\n",
       "\n",
       "\n",
       "/* Toggleable style: style used for estimator/Pipeline/ColumnTransformer box that is\n",
       "clickable and can be expanded/collapsed.\n",
       "- Pipeline and ColumnTransformer use this feature and define the default style\n",
       "- Estimators will overwrite some part of the style using the `sk-estimator` class\n",
       "*/\n",
       "\n",
       "/* Pipeline and ColumnTransformer style (default) */\n",
       "\n",
       "#sk-container-id-2 div.sk-toggleable {\n",
       "  /* Default theme specific background. It is overwritten whether we have a\n",
       "  specific estimator or a Pipeline/ColumnTransformer */\n",
       "  background-color: var(--sklearn-color-background);\n",
       "}\n",
       "\n",
       "/* Toggleable label */\n",
       "#sk-container-id-2 label.sk-toggleable__label {\n",
       "  cursor: pointer;\n",
       "  display: block;\n",
       "  width: 100%;\n",
       "  margin-bottom: 0;\n",
       "  padding: 0.5em;\n",
       "  box-sizing: border-box;\n",
       "  text-align: center;\n",
       "}\n",
       "\n",
       "#sk-container-id-2 label.sk-toggleable__label-arrow:before {\n",
       "  /* Arrow on the left of the label */\n",
       "  content: \"▸\";\n",
       "  float: left;\n",
       "  margin-right: 0.25em;\n",
       "  color: var(--sklearn-color-icon);\n",
       "}\n",
       "\n",
       "#sk-container-id-2 label.sk-toggleable__label-arrow:hover:before {\n",
       "  color: var(--sklearn-color-text);\n",
       "}\n",
       "\n",
       "/* Toggleable content - dropdown */\n",
       "\n",
       "#sk-container-id-2 div.sk-toggleable__content {\n",
       "  max-height: 0;\n",
       "  max-width: 0;\n",
       "  overflow: hidden;\n",
       "  text-align: left;\n",
       "  /* unfitted */\n",
       "  background-color: var(--sklearn-color-unfitted-level-0);\n",
       "}\n",
       "\n",
       "#sk-container-id-2 div.sk-toggleable__content.fitted {\n",
       "  /* fitted */\n",
       "  background-color: var(--sklearn-color-fitted-level-0);\n",
       "}\n",
       "\n",
       "#sk-container-id-2 div.sk-toggleable__content pre {\n",
       "  margin: 0.2em;\n",
       "  border-radius: 0.25em;\n",
       "  color: var(--sklearn-color-text);\n",
       "  /* unfitted */\n",
       "  background-color: var(--sklearn-color-unfitted-level-0);\n",
       "}\n",
       "\n",
       "#sk-container-id-2 div.sk-toggleable__content.fitted pre {\n",
       "  /* unfitted */\n",
       "  background-color: var(--sklearn-color-fitted-level-0);\n",
       "}\n",
       "\n",
       "#sk-container-id-2 input.sk-toggleable__control:checked~div.sk-toggleable__content {\n",
       "  /* Expand drop-down */\n",
       "  max-height: 200px;\n",
       "  max-width: 100%;\n",
       "  overflow: auto;\n",
       "}\n",
       "\n",
       "#sk-container-id-2 input.sk-toggleable__control:checked~label.sk-toggleable__label-arrow:before {\n",
       "  content: \"▾\";\n",
       "}\n",
       "\n",
       "/* Pipeline/ColumnTransformer-specific style */\n",
       "\n",
       "#sk-container-id-2 div.sk-label input.sk-toggleable__control:checked~label.sk-toggleable__label {\n",
       "  color: var(--sklearn-color-text);\n",
       "  background-color: var(--sklearn-color-unfitted-level-2);\n",
       "}\n",
       "\n",
       "#sk-container-id-2 div.sk-label.fitted input.sk-toggleable__control:checked~label.sk-toggleable__label {\n",
       "  background-color: var(--sklearn-color-fitted-level-2);\n",
       "}\n",
       "\n",
       "/* Estimator-specific style */\n",
       "\n",
       "/* Colorize estimator box */\n",
       "#sk-container-id-2 div.sk-estimator input.sk-toggleable__control:checked~label.sk-toggleable__label {\n",
       "  /* unfitted */\n",
       "  background-color: var(--sklearn-color-unfitted-level-2);\n",
       "}\n",
       "\n",
       "#sk-container-id-2 div.sk-estimator.fitted input.sk-toggleable__control:checked~label.sk-toggleable__label {\n",
       "  /* fitted */\n",
       "  background-color: var(--sklearn-color-fitted-level-2);\n",
       "}\n",
       "\n",
       "#sk-container-id-2 div.sk-label label.sk-toggleable__label,\n",
       "#sk-container-id-2 div.sk-label label {\n",
       "  /* The background is the default theme color */\n",
       "  color: var(--sklearn-color-text-on-default-background);\n",
       "}\n",
       "\n",
       "/* On hover, darken the color of the background */\n",
       "#sk-container-id-2 div.sk-label:hover label.sk-toggleable__label {\n",
       "  color: var(--sklearn-color-text);\n",
       "  background-color: var(--sklearn-color-unfitted-level-2);\n",
       "}\n",
       "\n",
       "/* Label box, darken color on hover, fitted */\n",
       "#sk-container-id-2 div.sk-label.fitted:hover label.sk-toggleable__label.fitted {\n",
       "  color: var(--sklearn-color-text);\n",
       "  background-color: var(--sklearn-color-fitted-level-2);\n",
       "}\n",
       "\n",
       "/* Estimator label */\n",
       "\n",
       "#sk-container-id-2 div.sk-label label {\n",
       "  font-family: monospace;\n",
       "  font-weight: bold;\n",
       "  display: inline-block;\n",
       "  line-height: 1.2em;\n",
       "}\n",
       "\n",
       "#sk-container-id-2 div.sk-label-container {\n",
       "  text-align: center;\n",
       "}\n",
       "\n",
       "/* Estimator-specific */\n",
       "#sk-container-id-2 div.sk-estimator {\n",
       "  font-family: monospace;\n",
       "  border: 1px dotted var(--sklearn-color-border-box);\n",
       "  border-radius: 0.25em;\n",
       "  box-sizing: border-box;\n",
       "  margin-bottom: 0.5em;\n",
       "  /* unfitted */\n",
       "  background-color: var(--sklearn-color-unfitted-level-0);\n",
       "}\n",
       "\n",
       "#sk-container-id-2 div.sk-estimator.fitted {\n",
       "  /* fitted */\n",
       "  background-color: var(--sklearn-color-fitted-level-0);\n",
       "}\n",
       "\n",
       "/* on hover */\n",
       "#sk-container-id-2 div.sk-estimator:hover {\n",
       "  /* unfitted */\n",
       "  background-color: var(--sklearn-color-unfitted-level-2);\n",
       "}\n",
       "\n",
       "#sk-container-id-2 div.sk-estimator.fitted:hover {\n",
       "  /* fitted */\n",
       "  background-color: var(--sklearn-color-fitted-level-2);\n",
       "}\n",
       "\n",
       "/* Specification for estimator info (e.g. \"i\" and \"?\") */\n",
       "\n",
       "/* Common style for \"i\" and \"?\" */\n",
       "\n",
       ".sk-estimator-doc-link,\n",
       "a:link.sk-estimator-doc-link,\n",
       "a:visited.sk-estimator-doc-link {\n",
       "  float: right;\n",
       "  font-size: smaller;\n",
       "  line-height: 1em;\n",
       "  font-family: monospace;\n",
       "  background-color: var(--sklearn-color-background);\n",
       "  border-radius: 1em;\n",
       "  height: 1em;\n",
       "  width: 1em;\n",
       "  text-decoration: none !important;\n",
       "  margin-left: 1ex;\n",
       "  /* unfitted */\n",
       "  border: var(--sklearn-color-unfitted-level-1) 1pt solid;\n",
       "  color: var(--sklearn-color-unfitted-level-1);\n",
       "}\n",
       "\n",
       ".sk-estimator-doc-link.fitted,\n",
       "a:link.sk-estimator-doc-link.fitted,\n",
       "a:visited.sk-estimator-doc-link.fitted {\n",
       "  /* fitted */\n",
       "  border: var(--sklearn-color-fitted-level-1) 1pt solid;\n",
       "  color: var(--sklearn-color-fitted-level-1);\n",
       "}\n",
       "\n",
       "/* On hover */\n",
       "div.sk-estimator:hover .sk-estimator-doc-link:hover,\n",
       ".sk-estimator-doc-link:hover,\n",
       "div.sk-label-container:hover .sk-estimator-doc-link:hover,\n",
       ".sk-estimator-doc-link:hover {\n",
       "  /* unfitted */\n",
       "  background-color: var(--sklearn-color-unfitted-level-3);\n",
       "  color: var(--sklearn-color-background);\n",
       "  text-decoration: none;\n",
       "}\n",
       "\n",
       "div.sk-estimator.fitted:hover .sk-estimator-doc-link.fitted:hover,\n",
       ".sk-estimator-doc-link.fitted:hover,\n",
       "div.sk-label-container:hover .sk-estimator-doc-link.fitted:hover,\n",
       ".sk-estimator-doc-link.fitted:hover {\n",
       "  /* fitted */\n",
       "  background-color: var(--sklearn-color-fitted-level-3);\n",
       "  color: var(--sklearn-color-background);\n",
       "  text-decoration: none;\n",
       "}\n",
       "\n",
       "/* Span, style for the box shown on hovering the info icon */\n",
       ".sk-estimator-doc-link span {\n",
       "  display: none;\n",
       "  z-index: 9999;\n",
       "  position: relative;\n",
       "  font-weight: normal;\n",
       "  right: .2ex;\n",
       "  padding: .5ex;\n",
       "  margin: .5ex;\n",
       "  width: min-content;\n",
       "  min-width: 20ex;\n",
       "  max-width: 50ex;\n",
       "  color: var(--sklearn-color-text);\n",
       "  box-shadow: 2pt 2pt 4pt #999;\n",
       "  /* unfitted */\n",
       "  background: var(--sklearn-color-unfitted-level-0);\n",
       "  border: .5pt solid var(--sklearn-color-unfitted-level-3);\n",
       "}\n",
       "\n",
       ".sk-estimator-doc-link.fitted span {\n",
       "  /* fitted */\n",
       "  background: var(--sklearn-color-fitted-level-0);\n",
       "  border: var(--sklearn-color-fitted-level-3);\n",
       "}\n",
       "\n",
       ".sk-estimator-doc-link:hover span {\n",
       "  display: block;\n",
       "}\n",
       "\n",
       "/* \"?\"-specific style due to the `<a>` HTML tag */\n",
       "\n",
       "#sk-container-id-2 a.estimator_doc_link {\n",
       "  float: right;\n",
       "  font-size: 1rem;\n",
       "  line-height: 1em;\n",
       "  font-family: monospace;\n",
       "  background-color: var(--sklearn-color-background);\n",
       "  border-radius: 1rem;\n",
       "  height: 1rem;\n",
       "  width: 1rem;\n",
       "  text-decoration: none;\n",
       "  /* unfitted */\n",
       "  color: var(--sklearn-color-unfitted-level-1);\n",
       "  border: var(--sklearn-color-unfitted-level-1) 1pt solid;\n",
       "}\n",
       "\n",
       "#sk-container-id-2 a.estimator_doc_link.fitted {\n",
       "  /* fitted */\n",
       "  border: var(--sklearn-color-fitted-level-1) 1pt solid;\n",
       "  color: var(--sklearn-color-fitted-level-1);\n",
       "}\n",
       "\n",
       "/* On hover */\n",
       "#sk-container-id-2 a.estimator_doc_link:hover {\n",
       "  /* unfitted */\n",
       "  background-color: var(--sklearn-color-unfitted-level-3);\n",
       "  color: var(--sklearn-color-background);\n",
       "  text-decoration: none;\n",
       "}\n",
       "\n",
       "#sk-container-id-2 a.estimator_doc_link.fitted:hover {\n",
       "  /* fitted */\n",
       "  background-color: var(--sklearn-color-fitted-level-3);\n",
       "}\n",
       "</style><div id=\"sk-container-id-2\" class=\"sk-top-container\"><div class=\"sk-text-repr-fallback\"><pre>GridSearchCV(cv=KFold(n_splits=5, random_state=121521014, shuffle=True),\n",
       "             estimator=RFE(estimator=LinearRegression()),\n",
       "             param_grid=[{&#x27;n_features_to_select&#x27;: [1, 2, 3, 4, 5, 6, 7, 8]}],\n",
       "             return_train_score=True, scoring=&#x27;r2&#x27;, verbose=1)</pre><b>In a Jupyter environment, please rerun this cell to show the HTML representation or trust the notebook. <br />On GitHub, the HTML representation is unable to render, please try loading this page with nbviewer.org.</b></div><div class=\"sk-container\" hidden><div class=\"sk-item sk-dashed-wrapped\"><div class=\"sk-label-container\"><div class=\"sk-label fitted sk-toggleable\"><input class=\"sk-toggleable__control sk-hidden--visually\" id=\"sk-estimator-id-2\" type=\"checkbox\" ><label for=\"sk-estimator-id-2\" class=\"sk-toggleable__label fitted sk-toggleable__label-arrow fitted\">&nbsp;&nbsp;GridSearchCV<a class=\"sk-estimator-doc-link fitted\" rel=\"noreferrer\" target=\"_blank\" href=\"https://scikit-learn.org/1.5/modules/generated/sklearn.model_selection.GridSearchCV.html\">?<span>Documentation for GridSearchCV</span></a><span class=\"sk-estimator-doc-link fitted\">i<span>Fitted</span></span></label><div class=\"sk-toggleable__content fitted\"><pre>GridSearchCV(cv=KFold(n_splits=5, random_state=121521014, shuffle=True),\n",
       "             estimator=RFE(estimator=LinearRegression()),\n",
       "             param_grid=[{&#x27;n_features_to_select&#x27;: [1, 2, 3, 4, 5, 6, 7, 8]}],\n",
       "             return_train_score=True, scoring=&#x27;r2&#x27;, verbose=1)</pre></div> </div></div><div class=\"sk-parallel\"><div class=\"sk-parallel-item\"><div class=\"sk-item\"><div class=\"sk-label-container\"><div class=\"sk-label fitted sk-toggleable\"><input class=\"sk-toggleable__control sk-hidden--visually\" id=\"sk-estimator-id-3\" type=\"checkbox\" ><label for=\"sk-estimator-id-3\" class=\"sk-toggleable__label fitted sk-toggleable__label-arrow fitted\">best_estimator_: RFE</label><div class=\"sk-toggleable__content fitted\"><pre>RFE(estimator=LinearRegression(), n_features_to_select=8)</pre></div> </div></div><div class=\"sk-serial\"><div class=\"sk-item sk-dashed-wrapped\"><div class=\"sk-parallel\"><div class=\"sk-parallel-item\"><div class=\"sk-item\"><div class=\"sk-label-container\"><div class=\"sk-label fitted sk-toggleable\"><input class=\"sk-toggleable__control sk-hidden--visually\" id=\"sk-estimator-id-4\" type=\"checkbox\" ><label for=\"sk-estimator-id-4\" class=\"sk-toggleable__label fitted sk-toggleable__label-arrow fitted\">estimator: LinearRegression</label><div class=\"sk-toggleable__content fitted\"><pre>LinearRegression()</pre></div> </div></div><div class=\"sk-serial\"><div class=\"sk-item\"><div class=\"sk-estimator fitted sk-toggleable\"><input class=\"sk-toggleable__control sk-hidden--visually\" id=\"sk-estimator-id-5\" type=\"checkbox\" ><label for=\"sk-estimator-id-5\" class=\"sk-toggleable__label fitted sk-toggleable__label-arrow fitted\">&nbsp;LinearRegression<a class=\"sk-estimator-doc-link fitted\" rel=\"noreferrer\" target=\"_blank\" href=\"https://scikit-learn.org/1.5/modules/generated/sklearn.linear_model.LinearRegression.html\">?<span>Documentation for LinearRegression</span></a></label><div class=\"sk-toggleable__content fitted\"><pre>LinearRegression()</pre></div> </div></div></div></div></div></div></div></div></div></div></div></div></div></div>"
      ],
      "text/plain": [
       "GridSearchCV(cv=KFold(n_splits=5, random_state=121521014, shuffle=True),\n",
       "             estimator=RFE(estimator=LinearRegression()),\n",
       "             param_grid=[{'n_features_to_select': [1, 2, 3, 4, 5, 6, 7, 8]}],\n",
       "             return_train_score=True, scoring='r2', verbose=1)"
      ]
     },
     "execution_count": 76,
     "metadata": {},
     "output_type": "execute_result"
    }
   ],
   "source": [
    "model_CVGS.fit(a_X_train, a_y_train)"
   ]
  },
  {
   "cell_type": "markdown",
   "id": "8988f8ca",
   "metadata": {},
   "source": [
    "Model sonuçlarına bakalım."
   ]
  },
  {
   "cell_type": "code",
   "execution_count": 77,
   "id": "4ccf4afe",
   "metadata": {},
   "outputs": [
    {
     "data": {
      "text/html": [
       "<div>\n",
       "<style scoped>\n",
       "    .dataframe tbody tr th:only-of-type {\n",
       "        vertical-align: middle;\n",
       "    }\n",
       "\n",
       "    .dataframe tbody tr th {\n",
       "        vertical-align: top;\n",
       "    }\n",
       "\n",
       "    .dataframe thead th {\n",
       "        text-align: right;\n",
       "    }\n",
       "</style>\n",
       "<table border=\"1\" class=\"dataframe\">\n",
       "  <thead>\n",
       "    <tr style=\"text-align: right;\">\n",
       "      <th></th>\n",
       "      <th>mean_fit_time</th>\n",
       "      <th>std_fit_time</th>\n",
       "      <th>mean_score_time</th>\n",
       "      <th>std_score_time</th>\n",
       "      <th>param_n_features_to_select</th>\n",
       "      <th>params</th>\n",
       "      <th>split0_test_score</th>\n",
       "      <th>split1_test_score</th>\n",
       "      <th>split2_test_score</th>\n",
       "      <th>split3_test_score</th>\n",
       "      <th>...</th>\n",
       "      <th>mean_test_score</th>\n",
       "      <th>std_test_score</th>\n",
       "      <th>rank_test_score</th>\n",
       "      <th>split0_train_score</th>\n",
       "      <th>split1_train_score</th>\n",
       "      <th>split2_train_score</th>\n",
       "      <th>split3_train_score</th>\n",
       "      <th>split4_train_score</th>\n",
       "      <th>mean_train_score</th>\n",
       "      <th>std_train_score</th>\n",
       "    </tr>\n",
       "  </thead>\n",
       "  <tbody>\n",
       "    <tr>\n",
       "      <th>0</th>\n",
       "      <td>0.012909</td>\n",
       "      <td>0.004157</td>\n",
       "      <td>0.004059</td>\n",
       "      <td>0.002054</td>\n",
       "      <td>1</td>\n",
       "      <td>{'n_features_to_select': 1}</td>\n",
       "      <td>0.380117</td>\n",
       "      <td>0.378662</td>\n",
       "      <td>-0.093868</td>\n",
       "      <td>0.404471</td>\n",
       "      <td>...</td>\n",
       "      <td>0.284933</td>\n",
       "      <td>0.190039</td>\n",
       "      <td>8</td>\n",
       "      <td>0.385331</td>\n",
       "      <td>0.385602</td>\n",
       "      <td>0.371367</td>\n",
       "      <td>0.379310</td>\n",
       "      <td>0.391067</td>\n",
       "      <td>0.382536</td>\n",
       "      <td>0.006710</td>\n",
       "    </tr>\n",
       "    <tr>\n",
       "      <th>1</th>\n",
       "      <td>0.013165</td>\n",
       "      <td>0.005053</td>\n",
       "      <td>0.002962</td>\n",
       "      <td>0.002423</td>\n",
       "      <td>2</td>\n",
       "      <td>{'n_features_to_select': 2}</td>\n",
       "      <td>0.390252</td>\n",
       "      <td>0.390341</td>\n",
       "      <td>0.301003</td>\n",
       "      <td>0.416546</td>\n",
       "      <td>...</td>\n",
       "      <td>0.372770</td>\n",
       "      <td>0.039322</td>\n",
       "      <td>7</td>\n",
       "      <td>0.392095</td>\n",
       "      <td>0.391488</td>\n",
       "      <td>0.399846</td>\n",
       "      <td>0.385561</td>\n",
       "      <td>0.397788</td>\n",
       "      <td>0.393356</td>\n",
       "      <td>0.005052</td>\n",
       "    </tr>\n",
       "    <tr>\n",
       "      <th>2</th>\n",
       "      <td>0.012388</td>\n",
       "      <td>0.002296</td>\n",
       "      <td>0.006597</td>\n",
       "      <td>0.003679</td>\n",
       "      <td>3</td>\n",
       "      <td>{'n_features_to_select': 3}</td>\n",
       "      <td>0.464083</td>\n",
       "      <td>0.486986</td>\n",
       "      <td>0.298217</td>\n",
       "      <td>0.498960</td>\n",
       "      <td>...</td>\n",
       "      <td>0.430413</td>\n",
       "      <td>0.073778</td>\n",
       "      <td>6</td>\n",
       "      <td>0.467898</td>\n",
       "      <td>0.460067</td>\n",
       "      <td>0.480689</td>\n",
       "      <td>0.459458</td>\n",
       "      <td>0.481395</td>\n",
       "      <td>0.469901</td>\n",
       "      <td>0.009573</td>\n",
       "    </tr>\n",
       "    <tr>\n",
       "      <th>3</th>\n",
       "      <td>0.012113</td>\n",
       "      <td>0.005074</td>\n",
       "      <td>0.003944</td>\n",
       "      <td>0.001984</td>\n",
       "      <td>4</td>\n",
       "      <td>{'n_features_to_select': 4}</td>\n",
       "      <td>0.472683</td>\n",
       "      <td>0.495760</td>\n",
       "      <td>0.326329</td>\n",
       "      <td>0.499132</td>\n",
       "      <td>...</td>\n",
       "      <td>0.442017</td>\n",
       "      <td>0.065026</td>\n",
       "      <td>5</td>\n",
       "      <td>0.477206</td>\n",
       "      <td>0.469325</td>\n",
       "      <td>0.487503</td>\n",
       "      <td>0.470545</td>\n",
       "      <td>0.489711</td>\n",
       "      <td>0.478858</td>\n",
       "      <td>0.008429</td>\n",
       "    </tr>\n",
       "    <tr>\n",
       "      <th>4</th>\n",
       "      <td>0.009906</td>\n",
       "      <td>0.003261</td>\n",
       "      <td>0.001036</td>\n",
       "      <td>0.002073</td>\n",
       "      <td>5</td>\n",
       "      <td>{'n_features_to_select': 5}</td>\n",
       "      <td>0.473559</td>\n",
       "      <td>0.511734</td>\n",
       "      <td>0.416181</td>\n",
       "      <td>0.517533</td>\n",
       "      <td>...</td>\n",
       "      <td>0.470646</td>\n",
       "      <td>0.040468</td>\n",
       "      <td>4</td>\n",
       "      <td>0.496470</td>\n",
       "      <td>0.485248</td>\n",
       "      <td>0.495679</td>\n",
       "      <td>0.485779</td>\n",
       "      <td>0.504923</td>\n",
       "      <td>0.493620</td>\n",
       "      <td>0.007371</td>\n",
       "    </tr>\n",
       "    <tr>\n",
       "      <th>5</th>\n",
       "      <td>0.007948</td>\n",
       "      <td>0.002242</td>\n",
       "      <td>0.002052</td>\n",
       "      <td>0.002514</td>\n",
       "      <td>6</td>\n",
       "      <td>{'n_features_to_select': 6}</td>\n",
       "      <td>0.475280</td>\n",
       "      <td>0.513587</td>\n",
       "      <td>0.414135</td>\n",
       "      <td>0.515245</td>\n",
       "      <td>...</td>\n",
       "      <td>0.471013</td>\n",
       "      <td>0.040476</td>\n",
       "      <td>3</td>\n",
       "      <td>0.497939</td>\n",
       "      <td>0.486671</td>\n",
       "      <td>0.497280</td>\n",
       "      <td>0.488072</td>\n",
       "      <td>0.506229</td>\n",
       "      <td>0.495238</td>\n",
       "      <td>0.007170</td>\n",
       "    </tr>\n",
       "    <tr>\n",
       "      <th>6</th>\n",
       "      <td>0.006132</td>\n",
       "      <td>0.002162</td>\n",
       "      <td>0.002936</td>\n",
       "      <td>0.003854</td>\n",
       "      <td>7</td>\n",
       "      <td>{'n_features_to_select': 7}</td>\n",
       "      <td>0.484169</td>\n",
       "      <td>0.508463</td>\n",
       "      <td>0.438016</td>\n",
       "      <td>0.515528</td>\n",
       "      <td>...</td>\n",
       "      <td>0.478572</td>\n",
       "      <td>0.031471</td>\n",
       "      <td>2</td>\n",
       "      <td>0.507671</td>\n",
       "      <td>0.487755</td>\n",
       "      <td>0.504599</td>\n",
       "      <td>0.488137</td>\n",
       "      <td>0.515719</td>\n",
       "      <td>0.500776</td>\n",
       "      <td>0.011088</td>\n",
       "    </tr>\n",
       "    <tr>\n",
       "      <th>7</th>\n",
       "      <td>0.007210</td>\n",
       "      <td>0.002362</td>\n",
       "      <td>0.003819</td>\n",
       "      <td>0.001922</td>\n",
       "      <td>8</td>\n",
       "      <td>{'n_features_to_select': 8}</td>\n",
       "      <td>0.484561</td>\n",
       "      <td>0.512010</td>\n",
       "      <td>0.438603</td>\n",
       "      <td>0.524631</td>\n",
       "      <td>...</td>\n",
       "      <td>0.481397</td>\n",
       "      <td>0.034113</td>\n",
       "      <td>1</td>\n",
       "      <td>0.507683</td>\n",
       "      <td>0.499169</td>\n",
       "      <td>0.504609</td>\n",
       "      <td>0.497872</td>\n",
       "      <td>0.515806</td>\n",
       "      <td>0.505028</td>\n",
       "      <td>0.006464</td>\n",
       "    </tr>\n",
       "  </tbody>\n",
       "</table>\n",
       "<p>8 rows × 21 columns</p>\n",
       "</div>"
      ],
      "text/plain": [
       "   mean_fit_time  std_fit_time  mean_score_time  std_score_time  \\\n",
       "0       0.012909      0.004157         0.004059        0.002054   \n",
       "1       0.013165      0.005053         0.002962        0.002423   \n",
       "2       0.012388      0.002296         0.006597        0.003679   \n",
       "3       0.012113      0.005074         0.003944        0.001984   \n",
       "4       0.009906      0.003261         0.001036        0.002073   \n",
       "5       0.007948      0.002242         0.002052        0.002514   \n",
       "6       0.006132      0.002162         0.002936        0.003854   \n",
       "7       0.007210      0.002362         0.003819        0.001922   \n",
       "\n",
       "   param_n_features_to_select                       params  split0_test_score  \\\n",
       "0                           1  {'n_features_to_select': 1}           0.380117   \n",
       "1                           2  {'n_features_to_select': 2}           0.390252   \n",
       "2                           3  {'n_features_to_select': 3}           0.464083   \n",
       "3                           4  {'n_features_to_select': 4}           0.472683   \n",
       "4                           5  {'n_features_to_select': 5}           0.473559   \n",
       "5                           6  {'n_features_to_select': 6}           0.475280   \n",
       "6                           7  {'n_features_to_select': 7}           0.484169   \n",
       "7                           8  {'n_features_to_select': 8}           0.484561   \n",
       "\n",
       "   split1_test_score  split2_test_score  split3_test_score  ...  \\\n",
       "0           0.378662          -0.093868           0.404471  ...   \n",
       "1           0.390341           0.301003           0.416546  ...   \n",
       "2           0.486986           0.298217           0.498960  ...   \n",
       "3           0.495760           0.326329           0.499132  ...   \n",
       "4           0.511734           0.416181           0.517533  ...   \n",
       "5           0.513587           0.414135           0.515245  ...   \n",
       "6           0.508463           0.438016           0.515528  ...   \n",
       "7           0.512010           0.438603           0.524631  ...   \n",
       "\n",
       "   mean_test_score  std_test_score  rank_test_score  split0_train_score  \\\n",
       "0         0.284933        0.190039                8            0.385331   \n",
       "1         0.372770        0.039322                7            0.392095   \n",
       "2         0.430413        0.073778                6            0.467898   \n",
       "3         0.442017        0.065026                5            0.477206   \n",
       "4         0.470646        0.040468                4            0.496470   \n",
       "5         0.471013        0.040476                3            0.497939   \n",
       "6         0.478572        0.031471                2            0.507671   \n",
       "7         0.481397        0.034113                1            0.507683   \n",
       "\n",
       "   split1_train_score  split2_train_score  split3_train_score  \\\n",
       "0            0.385602            0.371367            0.379310   \n",
       "1            0.391488            0.399846            0.385561   \n",
       "2            0.460067            0.480689            0.459458   \n",
       "3            0.469325            0.487503            0.470545   \n",
       "4            0.485248            0.495679            0.485779   \n",
       "5            0.486671            0.497280            0.488072   \n",
       "6            0.487755            0.504599            0.488137   \n",
       "7            0.499169            0.504609            0.497872   \n",
       "\n",
       "   split4_train_score  mean_train_score  std_train_score  \n",
       "0            0.391067          0.382536         0.006710  \n",
       "1            0.397788          0.393356         0.005052  \n",
       "2            0.481395          0.469901         0.009573  \n",
       "3            0.489711          0.478858         0.008429  \n",
       "4            0.504923          0.493620         0.007371  \n",
       "5            0.506229          0.495238         0.007170  \n",
       "6            0.515719          0.500776         0.011088  \n",
       "7            0.515806          0.505028         0.006464  \n",
       "\n",
       "[8 rows x 21 columns]"
      ]
     },
     "execution_count": 77,
     "metadata": {},
     "output_type": "execute_result"
    }
   ],
   "source": [
    "results_CVGS = pd.DataFrame(model_CVGS.cv_results_)\n",
    "results_CVGS"
   ]
  },
  {
   "cell_type": "markdown",
   "id": "31c0b829",
   "metadata": {},
   "source": [
    "Farkı daha iyi görebilmek için sonuçları görselleştirelim. 8 değişkenin performansının en iyi olduğu görülebiliyor."
   ]
  },
  {
   "cell_type": "code",
   "execution_count": 78,
   "id": "e7fecf7c",
   "metadata": {},
   "outputs": [],
   "source": [
    "def opt_num_of_features(results_CVGS):\n",
    "    plt.figure(figsize=(16,6));\n",
    "    plt.plot(results_CVGS[\"param_n_features_to_select\"], \n",
    "             results_CVGS[\"mean_train_score\"]);\n",
    "    plt.plot(results_CVGS[\"param_n_features_to_select\"], \n",
    "             results_CVGS[\"mean_test_score\"]);\n",
    "    plt.xlabel('number of features');\n",
    "    plt.ylabel('r-squared');\n",
    "    plt.title(\"Optimal Number of Features\");\n",
    "    plt.legend(['test score', 'train score'], loc='upper left');\n",
    "    return plt.show()"
   ]
  },
  {
   "cell_type": "code",
   "execution_count": 79,
   "id": "1422bf25",
   "metadata": {
    "scrolled": true
   },
   "outputs": [
    {
     "data": {
      "image/png": "[encoded data removed]",
      "text/plain": [
       "<Figure size 1600x600 with 1 Axes>"
      ]
     },
     "metadata": {},
     "output_type": "display_data"
    }
   ],
   "source": [
    "opt_num_of_features(results_CVGS)"
   ]
  },
  {
   "cell_type": "markdown",
   "id": "f0484214",
   "metadata": {},
   "source": [
    "Değişken sayımızı 8 olarak seçtiğimzde $R^2$ değerinin çok az arttığı görülebilir."
   ]
  },
  {
   "cell_type": "code",
   "execution_count": 80,
   "id": "d810b91b",
   "metadata": {},
   "outputs": [],
   "source": [
    "n_features_optimal = 8\n",
    "lm_final = LinearRegression()\n",
    "lm_final.fit(a_X_train, a_y_train)\n",
    "rfe_final = RFE(lm_final, n_features_to_select=n_features_optimal)\n",
    "rfe_final = rfe_final.fit(a_X_train, a_y_train)"
   ]
  },
  {
   "cell_type": "code",
   "execution_count": 81,
   "id": "cc015440",
   "metadata": {},
   "outputs": [],
   "source": [
    "y_pred_test_final = lm_final.predict(a_X_test)"
   ]
  },
  {
   "cell_type": "code",
   "execution_count": 82,
   "id": "a52244e8",
   "metadata": {},
   "outputs": [
    {
     "name": "stdout",
     "output_type": "stream",
     "text": [
      "0.09307253136263738\n"
     ]
    }
   ],
   "source": [
    "RMSE_lm_test_final = RMSE(a_y_test, y_pred_test_final)\n",
    "print(RMSE_lm_test_final)"
   ]
  },
  {
   "cell_type": "code",
   "execution_count": 83,
   "id": "4a3a0e0b",
   "metadata": {},
   "outputs": [
    {
     "data": {
      "text/plain": [
       "0.5053978577036267"
      ]
     },
     "execution_count": 83,
     "metadata": {},
     "output_type": "execute_result"
    }
   ],
   "source": [
    "R2_lm_test_final = r2_score(a_y_test, y_pred_test_final)\n",
    "R2_lm_test_final"
   ]
  },
  {
   "cell_type": "markdown",
   "id": "534e9a73",
   "metadata": {},
   "source": [
    "## 3.Çoklu Doğrusal Olmayan Regresyon\n",
    "&nbsp;<sup>[İçeriğe git.](#İçerik)</sup>"
   ]
  },
  {
   "cell_type": "markdown",
   "id": "97a30f13",
   "metadata": {},
   "source": [
    "Bağımlı değişkenlerimizi y ve bağımsız değişkenlerimizi X olarak tanımlayalım."
   ]
  },
  {
   "cell_type": "code",
   "execution_count": 84,
   "id": "1aa9572e",
   "metadata": {},
   "outputs": [],
   "source": [
    "y = abalone_data[\"Age\"]\n",
    "X = abalone_data.drop(\"Age\", axis='columns')"
   ]
  },
  {
   "cell_type": "markdown",
   "id": "64256bea",
   "metadata": {},
   "source": [
    "Eğitim ve test olarak bölelim."
   ]
  },
  {
   "cell_type": "code",
   "execution_count": 85,
   "id": "780ef7e5",
   "metadata": {},
   "outputs": [],
   "source": [
    "abalone_X_train, abalone_X_test, abalone_y_train, abalone_y_test = train_test_split(X, y,\n",
    "                                                                                    test_size=0.2,\n",
    "                                                                                    random_state=121521014)"
   ]
  },
  {
   "cell_type": "markdown",
   "id": "f5150e36",
   "metadata": {},
   "source": [
    "Standartlaştırma ile veriyi ölçeklendirelim."
   ]
  },
  {
   "cell_type": "code",
   "execution_count": 86,
   "id": "7b04b5ab",
   "metadata": {},
   "outputs": [],
   "source": [
    "scalerANN = StandardScaler()"
   ]
  },
  {
   "cell_type": "code",
   "execution_count": 87,
   "id": "33eef6e0",
   "metadata": {},
   "outputs": [],
   "source": [
    "abalone_X_train_scaled = scalerANN.fit_transform(abalone_X_train)\n",
    "abalone_X_test_scaled = scalerANN.transform(abalone_X_test)"
   ]
  },
  {
   "cell_type": "code",
   "execution_count": 88,
   "id": "9606b41d",
   "metadata": {},
   "outputs": [],
   "source": [
    "abalone_y_train = np.array(abalone_y_train)\n",
    "abalone_y_test = np.array(abalone_y_test)\n",
    "\n",
    "abalone_y_train = abalone_y_train.reshape(-1, 1)\n",
    "abalone_y_test = abalone_y_test.reshape(-1, 1)"
   ]
  },
  {
   "cell_type": "code",
   "execution_count": 89,
   "id": "6f8304fc",
   "metadata": {},
   "outputs": [],
   "source": [
    "abalone_y_train_scaled = scalerANN.fit_transform(abalone_y_train)\n",
    "abalone_y_test_scaled = scalerANN.transform(abalone_y_test)"
   ]
  },
  {
   "cell_type": "code",
   "execution_count": 90,
   "id": "beccd897",
   "metadata": {},
   "outputs": [],
   "source": [
    "abalone_y_train_scaled_1d = abalone_y_train_scaled.ravel()"
   ]
  },
  {
   "cell_type": "markdown",
   "id": "d67458c0",
   "metadata": {},
   "source": [
    "Çok Katmanlı Algılaycı(MLP) regresyon modelimizi oluşturalım."
   ]
  },
  {
   "cell_type": "code",
   "execution_count": 320,
   "id": "479ddf07",
   "metadata": {},
   "outputs": [],
   "source": [
    "aNN = MLPRegressor(max_iter=250, random_state=121521014).fit(abalone_X_train_scaled, abalone_y_train_scaled_1d)"
   ]
  },
  {
   "cell_type": "markdown",
   "id": "48b33595",
   "metadata": {},
   "source": [
    "Hata değerini hatalar karesi ile heapladığını, gizli katmanda 100 nöron olduğunu, 8 değişkenimizin olduğunu ve 200 iterasyon ayptığımızı görebiliriz.   \n",
    "(Model hatası 200 iterasyonda 0'a tam olarak yaklaşılamadığını belirtiyor.)"
   ]
  },
  {
   "cell_type": "code",
   "execution_count": 321,
   "id": "88a3a3c8",
   "metadata": {
    "scrolled": true
   },
   "outputs": [
    {
     "data": {
      "text/plain": [
       "('squared_error', 0.20162756489251066, (100,), 8, 234)"
      ]
     },
     "execution_count": 321,
     "metadata": {},
     "output_type": "execute_result"
    }
   ],
   "source": [
    "#?aNN\n",
    "aNN.loss, aNN.loss_, aNN.hidden_layer_sizes, aNN.n_features_in_, aNN.n_iter_"
   ]
  },
  {
   "cell_type": "markdown",
   "id": "1f896c88",
   "metadata": {},
   "source": [
    "Hatanın zamanla 0'a yaklaştığını aşağıdaki grafikten görebiliriz."
   ]
  },
  {
   "cell_type": "code",
   "execution_count": 322,
   "id": "cb644ec6",
   "metadata": {},
   "outputs": [
    {
     "data": {
      "text/plain": [
       "[<matplotlib.lines.Line2D at 0x24b5c71e390>]"
      ]
     },
     "execution_count": 322,
     "metadata": {},
     "output_type": "execute_result"
    },
    {
     "data": {
      "image/png": "[encoded data removed]",
      "text/plain": [
       "<Figure size 640x480 with 1 Axes>"
      ]
     },
     "metadata": {},
     "output_type": "display_data"
    }
   ],
   "source": [
    "plt.plot(aNN.loss_curve_)"
   ]
  },
  {
   "cell_type": "code",
   "execution_count": 323,
   "id": "b93aec3c",
   "metadata": {},
   "outputs": [],
   "source": [
    "y_aNN_pred_train = aNN.predict(abalone_X_train_scaled)\n",
    "y_aNN_pred_test = aNN.predict(abalone_X_test_scaled)"
   ]
  },
  {
   "cell_type": "code",
   "execution_count": 324,
   "id": "544e8c1c",
   "metadata": {},
   "outputs": [],
   "source": [
    "y_aNN_pred_train = y_aNN_pred_train.reshape(1, -1)\n",
    "y_aNN_pred_test = y_aNN_pred_test.reshape(1, -1)"
   ]
  },
  {
   "cell_type": "markdown",
   "id": "78ddd366",
   "metadata": {},
   "source": [
    "Hataları hesaplamadan önce tahmin değerlerinin standartlaştırılmış halini tersine çeviriyoruz."
   ]
  },
  {
   "cell_type": "code",
   "execution_count": 325,
   "id": "bd51e4b0",
   "metadata": {},
   "outputs": [],
   "source": [
    "y_aNN_pred_train_inv = scalerANN.inverse_transform(y_aNN_pred_train)\n",
    "y_aNN_pred_test_inv = scalerANN.inverse_transform(y_aNN_pred_test)"
   ]
  },
  {
   "cell_type": "code",
   "execution_count": 326,
   "id": "b9709a7b",
   "metadata": {},
   "outputs": [],
   "source": [
    "y_aNN_pred_train_inv = y_aNN_pred_train_inv.reshape(-1, 1)\n",
    "y_aNN_pred_test_inv = y_aNN_pred_test_inv.reshape(-1, 1)"
   ]
  },
  {
   "cell_type": "markdown",
   "id": "f5fac765",
   "metadata": {},
   "source": [
    "Eğitim seti tahminleri için RMSE ve $R^2$ değerlerinde bakalım. \n",
    "RMSE, değeri 0'dan büyük yani model uyumlu değil. \n",
    "$R^2$ değeri kötüdür. Model iyi tahmin yapamamaktadır. İlişkinin yaklaşık olarak %60'ını açıklayabilmektedir. (Doğrusal regresyona kıyasla RMSE ve $R^2$ değerleri artmıştır.)"
   ]
  },
  {
   "cell_type": "code",
   "execution_count": 327,
   "id": "fe2d5f29",
   "metadata": {},
   "outputs": [
    {
     "name": "stdout",
     "output_type": "stream",
     "text": [
      "2.038591509244177\n"
     ]
    }
   ],
   "source": [
    "aNN_RMSE_train = RMSE(abalone_y_train, y_aNN_pred_train_inv)\n",
    "print(aNN_RMSE_train)"
   ]
  },
  {
   "cell_type": "code",
   "execution_count": 328,
   "id": "e6232015",
   "metadata": {},
   "outputs": [
    {
     "data": {
      "text/plain": [
       "0.5960325608251144"
      ]
     },
     "execution_count": 328,
     "metadata": {},
     "output_type": "execute_result"
    }
   ],
   "source": [
    "aNN_R2_train = r2_score(abalone_y_train, y_aNN_pred_train_inv)\n",
    "aNN_R2_train"
   ]
  },
  {
   "cell_type": "markdown",
   "id": "16eb96d9",
   "metadata": {},
   "source": [
    "Test seti tahminleri için RMSE ve $R^2$ değerlerinde bakalım.\n",
    "Eğitim seti ile aynı yorumlar yapılabilir. $R^2$ değeri daha düşüktür."
   ]
  },
  {
   "cell_type": "code",
   "execution_count": 329,
   "id": "8961219a",
   "metadata": {},
   "outputs": [
    {
     "name": "stdout",
     "output_type": "stream",
     "text": [
      "2.1019999913276957\n"
     ]
    }
   ],
   "source": [
    "aNN_RMSE_test = RMSE(abalone_y_test, y_aNN_pred_test_inv)\n",
    "print(aNN_RMSE_test)"
   ]
  },
  {
   "cell_type": "code",
   "execution_count": 330,
   "id": "99ecb88f",
   "metadata": {
    "scrolled": true
   },
   "outputs": [
    {
     "data": {
      "text/plain": [
       "0.562018388000804"
      ]
     },
     "execution_count": 330,
     "metadata": {},
     "output_type": "execute_result"
    }
   ],
   "source": [
    "aNN_R2_test = r2_score(abalone_y_test, y_aNN_pred_test_inv)\n",
    "aNN_R2_test"
   ]
  },
  {
   "cell_type": "markdown",
   "id": "20842f96",
   "metadata": {},
   "source": [
    "Test setinden tahmin edilen değişkenleri ve hata değerlerini görselleştirelim. Hata oranının küçük olduğu söylenemez."
   ]
  },
  {
   "cell_type": "code",
   "execution_count": 331,
   "id": "df60c5de",
   "metadata": {},
   "outputs": [
    {
     "data": {
      "image/png": "[encoded data removed]",
      "text/plain": [
       "<Figure size 640x480 with 1 Axes>"
      ]
     },
     "metadata": {},
     "output_type": "display_data"
    }
   ],
   "source": [
    "plot_residuals(abalone_y_test, y_aNN_pred_test_inv)"
   ]
  },
  {
   "cell_type": "markdown",
   "id": "1bea3bd3",
   "metadata": {},
   "source": [
    "#### 3.1.Grid Search Cross-Validation ile Hiperparametre Ayarlama\n",
    "&nbsp;<sup>[İçeriğe git.](#İçerik)</sup>"
   ]
  },
  {
   "cell_type": "markdown",
   "id": "bad3647d",
   "metadata": {},
   "source": [
    "Hiperparametre ayarlamak adına bazı değişkenler için potansiyel değerler belirliyoruz. "
   ]
  },
  {
   "cell_type": "code",
   "execution_count": 291,
   "id": "e98e802f",
   "metadata": {},
   "outputs": [],
   "source": [
    "aNN_params = {'random_state': [418],\n",
    "              'hidden_layer_sizes': [(50, 50), (100,100), (100,)],\n",
    "              'alpha': [0.1, 0.001, 0.0001]}"
   ]
  },
  {
   "cell_type": "code",
   "execution_count": 292,
   "id": "002ed8d1",
   "metadata": {},
   "outputs": [],
   "source": [
    "aNNfCV = MLPRegressor(random_state=121521014)"
   ]
  },
  {
   "cell_type": "code",
   "execution_count": 293,
   "id": "be2918a3",
   "metadata": {},
   "outputs": [],
   "source": [
    "abalone_y_train_scaled_1d = abalone_y_train_scaled.ravel()"
   ]
  },
  {
   "cell_type": "markdown",
   "id": "ce8067be",
   "metadata": {},
   "source": [
    "Izgara Arama Çapraz Doğrulama yapyoruz. (10 fold)"
   ]
  },
  {
   "cell_type": "code",
   "execution_count": 294,
   "id": "b6defbd8",
   "metadata": {},
   "outputs": [
    {
     "name": "stdout",
     "output_type": "stream",
     "text": [
      "Fitting 10 folds for each of 9 candidates, totalling 90 fits\n"
     ]
    }
   ],
   "source": [
    "aNN_CVGS = GridSearchCV(aNNfCV, aNN_params,\n",
    "                        cv=10,\n",
    "                        n_jobs=-1,\n",
    "                        verbose=2).fit(abalone_X_train_scaled, abalone_y_train_scaled_1d)"
   ]
  },
  {
   "cell_type": "markdown",
   "id": "1b440eb8",
   "metadata": {},
   "source": [
    "En iyi parametrelere bakıyoruz. alpha değeri varsayılan 0.0001 değerinden 0.1'e ve hidden_layer_sizes varsayılan (100,)'den (100, 100)'e değişti."
   ]
  },
  {
   "cell_type": "code",
   "execution_count": 295,
   "id": "2567c799",
   "metadata": {},
   "outputs": [
    {
     "data": {
      "text/plain": [
       "{'alpha': 0.1, 'hidden_layer_sizes': (100, 100), 'random_state': 418}"
      ]
     },
     "execution_count": 295,
     "metadata": {},
     "output_type": "execute_result"
    }
   ],
   "source": [
    "aNN_CVGS.best_params_"
   ]
  },
  {
   "cell_type": "markdown",
   "id": "344e22af",
   "metadata": {},
   "source": [
    "Modelimizi en iyi parametre değerleriyle oluşturuyoruz."
   ]
  },
  {
   "cell_type": "code",
   "execution_count": 296,
   "id": "9dac62f3",
   "metadata": {},
   "outputs": [],
   "source": [
    "aNN_CVGS_model = MLPRegressor(random_state=aNN_CVGS.best_params_[\"random_state\"],\n",
    "                              hidden_layer_sizes=aNN_CVGS.best_params_[\"hidden_layer_sizes\"],\n",
    "                              alpha=aNN_CVGS.best_params_[\"alpha\"]).fit(abalone_X_train_scaled, \n",
    "                                                                        abalone_y_train_scaled_1d)"
   ]
  },
  {
   "cell_type": "markdown",
   "id": "cc84840a",
   "metadata": {},
   "source": [
    "Hatanın zamanla 0'a yaklaştığını aşağıdaki grafikten görebiliriz. Parametreleri tune etmeden önceki halinde 200'üncü iterasyonda bile 0'a yaklaşamazken, bu haliyle yaklaşık 100 iterasyonda 0'a yaklaştığını görebiliyoruz."
   ]
  },
  {
   "cell_type": "code",
   "execution_count": 297,
   "id": "06c62d46",
   "metadata": {},
   "outputs": [
    {
     "data": {
      "text/plain": [
       "[<matplotlib.lines.Line2D at 0x24b5c70a960>]"
      ]
     },
     "execution_count": 297,
     "metadata": {},
     "output_type": "execute_result"
    },
    {
     "data": {
      "image/png": "[encoded data removed]",
      "text/plain": [
       "<Figure size 640x480 with 1 Axes>"
      ]
     },
     "metadata": {},
     "output_type": "display_data"
    }
   ],
   "source": [
    "plt.plot(aNN_CVGS_model.loss_curve_)"
   ]
  },
  {
   "cell_type": "code",
   "execution_count": 298,
   "id": "722b6580",
   "metadata": {},
   "outputs": [],
   "source": [
    "y_pred_aNN_CVGS_train = aNN_CVGS_model.predict(abalone_X_train_scaled)\n",
    "y_pred_aNN_CVGS_test = aNN_CVGS_model.predict(abalone_X_test_scaled)"
   ]
  },
  {
   "cell_type": "code",
   "execution_count": 299,
   "id": "ac1f09fd",
   "metadata": {},
   "outputs": [],
   "source": [
    "y_pred_aNN_CVGS_train = y_pred_aNN_CVGS_train.reshape(1, -1)\n",
    "y_pred_aNN_CVGS_test = y_pred_aNN_CVGS_test.reshape(1, -1)"
   ]
  },
  {
   "cell_type": "markdown",
   "id": "c554e7ab",
   "metadata": {},
   "source": [
    "Hataları hesaplamadan önce tahmin değerlerinin standartlaştırılmış halini tersine çeviriyoruz."
   ]
  },
  {
   "cell_type": "code",
   "execution_count": 300,
   "id": "445e7b54",
   "metadata": {},
   "outputs": [],
   "source": [
    "y_pred_aNN_CVGS_train_inv = scalerANN.inverse_transform(y_pred_aNN_CVGS_train)\n",
    "y_pred_aNN_CVGS_test_inv = scalerANN.inverse_transform(y_pred_aNN_CVGS_test)"
   ]
  },
  {
   "cell_type": "code",
   "execution_count": 301,
   "id": "207ae2eb",
   "metadata": {},
   "outputs": [],
   "source": [
    "y_pred_aNN_CVGS_train_inv = y_pred_aNN_CVGS_train_inv.reshape(-1, 1)\n",
    "y_pred_aNN_CVGS_test_inv = y_pred_aNN_CVGS_test_inv.reshape(-1, 1)"
   ]
  },
  {
   "cell_type": "markdown",
   "id": "bb726279",
   "metadata": {},
   "source": [
    "Eğitim seti tahminleri için RMSE ve $R^2$ değerlerinde bakalım. \n",
    "RMSE, değeri 0'dan büyük yani model uyumlu değil. \n",
    "$R^2$ değeri kötüdür. Model iyi tahmin yapamamaktadır. Model ilişkinin yaklaşık olarak %61'ini açıklayabilmektedir. Tune edilmemiş haline göre performans artmıştır."
   ]
  },
  {
   "cell_type": "code",
   "execution_count": 302,
   "id": "363c0498",
   "metadata": {},
   "outputs": [
    {
     "data": {
      "text/plain": [
       "1.9965041407526043"
      ]
     },
     "execution_count": 302,
     "metadata": {},
     "output_type": "execute_result"
    }
   ],
   "source": [
    "aNN_CVGS_RMSE_train = RMSE(abalone_y_train, y_pred_aNN_CVGS_train_inv)\n",
    "aNN_CVGS_RMSE_train"
   ]
  },
  {
   "cell_type": "code",
   "execution_count": 303,
   "id": "2b72c819",
   "metadata": {},
   "outputs": [
    {
     "data": {
      "text/plain": [
       "0.6125404500336715"
      ]
     },
     "execution_count": 303,
     "metadata": {},
     "output_type": "execute_result"
    }
   ],
   "source": [
    "aNN_CVGS_R2_train = r2_score(abalone_y_train, y_pred_aNN_CVGS_train_inv)\n",
    "aNN_CVGS_R2_train"
   ]
  },
  {
   "cell_type": "markdown",
   "id": "354a6a00",
   "metadata": {},
   "source": [
    "Test seti tahminleri için RMSE ve $R^2$ değerlerinde bakalım.\n",
    "RMSE değeri tune edilmemiş haline kıyasla daha büyüktür. Performans kötüleşmiştir. $R^2$ değeri tune edilmemiş haline göre daha küçüktür. Model yaklaşık olarak %56'sını açıklayabilmektedir."
   ]
  },
  {
   "cell_type": "code",
   "execution_count": 304,
   "id": "732fcaf8",
   "metadata": {},
   "outputs": [
    {
     "data": {
      "text/plain": [
       "2.1046394512216926"
      ]
     },
     "execution_count": 304,
     "metadata": {},
     "output_type": "execute_result"
    }
   ],
   "source": [
    "aNN_CVGS_RMSE_test = RMSE(abalone_y_test, y_pred_aNN_CVGS_test_inv)\n",
    "aNN_CVGS_RMSE_test"
   ]
  },
  {
   "cell_type": "code",
   "execution_count": 305,
   "id": "b7d4594f",
   "metadata": {},
   "outputs": [
    {
     "data": {
      "text/plain": [
       "0.5609177593475658"
      ]
     },
     "execution_count": 305,
     "metadata": {},
     "output_type": "execute_result"
    }
   ],
   "source": [
    "aNN_CVGS_R2_test = r2_score(abalone_y_test, y_pred_aNN_CVGS_test_inv)\n",
    "aNN_CVGS_R2_test"
   ]
  },
  {
   "cell_type": "markdown",
   "id": "9c115dda",
   "metadata": {},
   "source": [
    "Performans, eğitim seti için artmış fakat test seti için azalmıştır.  \n",
    "(Aynı parametrelerle random_state eklemeden denediğimde hidden_layer_sizes değerinin (50, 50) seçildiği ve hem eğitim hem de test seti performansının arttığı bir durum oldu. RMSE her ikisi için de azalırken $R^2$ değerleri arttı. $R^2$ sırasıyla 0.63 ve 0.568'di.)"
   ]
  },
  {
   "cell_type": "markdown",
   "id": "e8a5d82d",
   "metadata": {},
   "source": [
    "Test setinden tahmin edilen değişkenleri ve hata değerlerini görselleştirelim. Hata oranının küçük olduğu söylenemez."
   ]
  },
  {
   "cell_type": "code",
   "execution_count": 306,
   "id": "975c93a7",
   "metadata": {},
   "outputs": [
    {
     "data": {
      "image/png": "[encoded data removed]",
      "text/plain": [
       "<Figure size 640x480 with 1 Axes>"
      ]
     },
     "metadata": {},
     "output_type": "display_data"
    }
   ],
   "source": [
    "plot_residuals(abalone_y_test, y_pred_aNN_CVGS_test_inv)"
   ]
  },
  {
   "cell_type": "markdown",
   "id": "3eb7fe7d",
   "metadata": {},
   "source": [
    "## 4.K-En Yakın Komşular Algoritması\n",
    "&nbsp;<sup>[İçeriğe git.](#İçerik)</sup>"
   ]
  },
  {
   "cell_type": "markdown",
   "id": "b243519c",
   "metadata": {},
   "source": [
    "Modelimizi oluşturup fit ediyoruz."
   ]
  },
  {
   "cell_type": "code",
   "execution_count": 252,
   "id": "81710d30",
   "metadata": {},
   "outputs": [],
   "source": [
    "kNN = KNeighborsRegressor().fit(abalone_X_train_scaled, abalone_y_train_scaled)"
   ]
  },
  {
   "cell_type": "markdown",
   "id": "52e0b790",
   "metadata": {},
   "source": [
    "'minowski'(p=2) metriğini kullanıyoruz. 5 komşu kullanıldığını ve ağırlıklandırma yöteminin 'uniform' olduğunu görebiliyoruz."
   ]
  },
  {
   "cell_type": "code",
   "execution_count": 254,
   "id": "c2260675",
   "metadata": {},
   "outputs": [
    {
     "data": {
      "text/plain": [
       "('minkowski', 5, 2, 'uniform')"
      ]
     },
     "execution_count": 254,
     "metadata": {},
     "output_type": "execute_result"
    }
   ],
   "source": [
    "#?kNN\n",
    "kNN.metric, kNN.n_neighbors, kNN.p, kNN.weights"
   ]
  },
  {
   "cell_type": "code",
   "execution_count": 255,
   "id": "ddbf4e5f",
   "metadata": {},
   "outputs": [],
   "source": [
    "y_pred_kNN_train = kNN.predict(abalone_X_train_scaled)\n",
    "y_pred_kNN_test = kNN.predict(abalone_X_test_scaled)"
   ]
  },
  {
   "cell_type": "markdown",
   "id": "2250166e",
   "metadata": {},
   "source": [
    "Hataları hesaplamadan önce tahmin değerlerinin standartlaştırılmış halini tersine çeviriyoruz."
   ]
  },
  {
   "cell_type": "code",
   "execution_count": 256,
   "id": "df02ff3e",
   "metadata": {},
   "outputs": [],
   "source": [
    "y_pred_kNN_train_inv = scalerANN.inverse_transform(y_pred_kNN_train)\n",
    "y_pred_kNN_test_inv = scalerANN.inverse_transform(y_pred_kNN_test)"
   ]
  },
  {
   "cell_type": "markdown",
   "id": "37eb54b2",
   "metadata": {},
   "source": [
    "Gerçek ve tahmin değerlerinin ideal uyuma sahip olup olmadığını aşağıdaki foknsiyonu kullanarak bulabiliriz."
   ]
  },
  {
   "cell_type": "code",
   "execution_count": 257,
   "id": "f0c1c057",
   "metadata": {},
   "outputs": [],
   "source": [
    "def plot_kNN(actual, predicted):\n",
    "    plt.figure(figsize=(10, 6))\n",
    "    plt.scatter(actual, predicted, label='Predicted vs Actual')\n",
    "    plt.plot([min(actual), max(actual)], \n",
    "             [min(actual), max(actual)], color='red', linestyle=\"dashed\", linewidth=2, label='Ideal fit')\n",
    "    plt.title('KNN Regression: Predicted vs Actual')\n",
    "    plt.xlabel('Actual Age Progression')\n",
    "    plt.ylabel('Predicted Age Progression')\n",
    "    plt.legend()\n",
    "    return plt.show()"
   ]
  },
  {
   "cell_type": "markdown",
   "id": "91e8ebf6",
   "metadata": {},
   "source": [
    "İdeal uyuma yakınlık fazla değil."
   ]
  },
  {
   "cell_type": "code",
   "execution_count": 258,
   "id": "4769ef98",
   "metadata": {},
   "outputs": [
    {
     "data": {
      "image/png": "[encoded data removed]",
      "text/plain": [
       "<Figure size 1000x600 with 1 Axes>"
      ]
     },
     "metadata": {},
     "output_type": "display_data"
    }
   ],
   "source": [
    "plot_kNN(abalone_y_test, y_pred_kNN_test_inv)"
   ]
  },
  {
   "cell_type": "markdown",
   "id": "e0006794",
   "metadata": {},
   "source": [
    "Eğitim seti tahminleri için RMSE ve $R^2$ değerlerinde bakalım. \n",
    "RMSE, değeri 0'dan büyük yani model uyumlu değil. \n",
    "$R^2$ değeri kötüdür. Model iyi tahmin yapamamaktadır. İlişkinin yaklaşık olarak %65'ini açıklayabilmektedir. (Diğer modellere göre $R^2$ değeri daha iyidir.)"
   ]
  },
  {
   "cell_type": "code",
   "execution_count": 259,
   "id": "da855f4b",
   "metadata": {},
   "outputs": [
    {
     "data": {
      "text/plain": [
       "1.9025994333434617"
      ]
     },
     "execution_count": 259,
     "metadata": {},
     "output_type": "execute_result"
    }
   ],
   "source": [
    "kNN_RMSE_train = RMSE(abalone_y_train, y_pred_kNN_train_inv)\n",
    "kNN_RMSE_train"
   ]
  },
  {
   "cell_type": "code",
   "execution_count": 260,
   "id": "81f6e310",
   "metadata": {},
   "outputs": [
    {
     "data": {
      "text/plain": [
       "0.6481312766436943"
      ]
     },
     "execution_count": 260,
     "metadata": {},
     "output_type": "execute_result"
    }
   ],
   "source": [
    "kNN_R2_train = r2_score(abalone_y_train, y_pred_kNN_train_inv)\n",
    "kNN_R2_train"
   ]
  },
  {
   "cell_type": "markdown",
   "id": "e3a06eb8",
   "metadata": {},
   "source": [
    "Test seti tahminleri için RMSE ve $R^2$ değerlerinde bakalım. \n",
    "$R^2$ değeri daha eğitim setine göre çok daha düşüktür. Overfit durumu olabilir."
   ]
  },
  {
   "cell_type": "code",
   "execution_count": 261,
   "id": "426311c6",
   "metadata": {},
   "outputs": [
    {
     "data": {
      "text/plain": [
       "2.320130129886025"
      ]
     },
     "execution_count": 261,
     "metadata": {},
     "output_type": "execute_result"
    }
   ],
   "source": [
    "kNN_RMSE_test = RMSE(abalone_y_test, y_pred_kNN_test_inv)\n",
    "kNN_RMSE_test"
   ]
  },
  {
   "cell_type": "code",
   "execution_count": 262,
   "id": "e0e25d12",
   "metadata": {},
   "outputs": [
    {
     "data": {
      "text/plain": [
       "0.46640082940297967"
      ]
     },
     "execution_count": 262,
     "metadata": {},
     "output_type": "execute_result"
    }
   ],
   "source": [
    "kNN_R2_test = r2_score(abalone_y_test, y_pred_kNN_test_inv)\n",
    "kNN_R2_test"
   ]
  },
  {
   "cell_type": "markdown",
   "id": "616ba2bf",
   "metadata": {},
   "source": [
    "#### 4.1.Grid Search Cross-Validation ile Hiperparametre Ayarlama\n",
    "&nbsp;<sup>[İçeriğe git.](#İçerik)</sup>"
   ]
  },
  {
   "cell_type": "markdown",
   "id": "9243de44",
   "metadata": {},
   "source": [
    "Hiperparametre ayarlamak adına bazı değişkenler için potansiyel değerler belirliyoruz."
   ]
  },
  {
   "cell_type": "code",
   "execution_count": 307,
   "id": "48191a30",
   "metadata": {},
   "outputs": [],
   "source": [
    "kNN_params = {\"n_neighbors\":np.arange(1,30,1),\n",
    "              \"weights\": [\"uniform\", \"distance\"],\n",
    "              \"p\":[1, 2]}"
   ]
  },
  {
   "cell_type": "code",
   "execution_count": 308,
   "id": "31492e3e",
   "metadata": {},
   "outputs": [],
   "source": [
    "kNNfCV = KNeighborsRegressor()"
   ]
  },
  {
   "cell_type": "markdown",
   "id": "4b77553c",
   "metadata": {},
   "source": [
    "Izgara Arama Çapraz Doğrulama yapyoruz."
   ]
  },
  {
   "cell_type": "code",
   "execution_count": 309,
   "id": "e217007d",
   "metadata": {},
   "outputs": [],
   "source": [
    "kNN_CVGS = GridSearchCV(kNN, kNN_params).fit(abalone_X_train_scaled, abalone_y_train_scaled)"
   ]
  },
  {
   "cell_type": "markdown",
   "id": "4b6e5146",
   "metadata": {},
   "source": [
    "En iyi parametrelere bakıyoruz."
   ]
  },
  {
   "cell_type": "code",
   "execution_count": 310,
   "id": "1a895177",
   "metadata": {},
   "outputs": [
    {
     "data": {
      "text/plain": [
       "{'n_neighbors': 27, 'p': 2, 'weights': 'distance'}"
      ]
     },
     "execution_count": 310,
     "metadata": {},
     "output_type": "execute_result"
    }
   ],
   "source": [
    "kNN_CVGS.best_params_"
   ]
  },
  {
   "cell_type": "markdown",
   "id": "4c83fb4f",
   "metadata": {},
   "source": [
    "Modelimizi en iyi parametre değerleriyle oluşturuyoruz."
   ]
  },
  {
   "cell_type": "code",
   "execution_count": 312,
   "id": "cdb687f9",
   "metadata": {},
   "outputs": [],
   "source": [
    "kNN_CVGS_model = KNeighborsRegressor(n_neighbors=kNN_CVGS.best_params_[\"n_neighbors\"], \n",
    "                                     weights=kNN_CVGS.best_params_[\"weights\"],\n",
    "                                     p=kNN_CVGS.best_params_[\"p\"]).fit(abalone_X_train_scaled, \n",
    "                                                                     abalone_y_train_scaled)"
   ]
  },
  {
   "cell_type": "code",
   "execution_count": 313,
   "id": "7ac6cdd9",
   "metadata": {},
   "outputs": [],
   "source": [
    "y_pred_kNN_CVGS_train = kNN_CVGS_model.predict(abalone_X_train_scaled)\n",
    "y_pred_kNN_CVGS_test = kNN_CVGS_model.predict(abalone_X_test_scaled)"
   ]
  },
  {
   "cell_type": "code",
   "execution_count": 314,
   "id": "4f6a20af",
   "metadata": {},
   "outputs": [],
   "source": [
    "y_pred_kNN_CVGS_train_inv = scalerANN.inverse_transform(y_pred_kNN_CVGS_train)\n",
    "y_pred_kNN_CVGS_test_inv = scalerANN.inverse_transform(y_pred_kNN_CVGS_test)"
   ]
  },
  {
   "cell_type": "markdown",
   "id": "16c80d89",
   "metadata": {},
   "source": [
    "İdeal uyuma yakınlık parametre ayarı yapılmadan önceki halinden daha iyidir."
   ]
  },
  {
   "cell_type": "code",
   "execution_count": 315,
   "id": "5b26a156",
   "metadata": {},
   "outputs": [
    {
     "data": {
      "image/png": "[encoded data removed]",
      "text/plain": [
       "<Figure size 1000x600 with 1 Axes>"
      ]
     },
     "metadata": {},
     "output_type": "display_data"
    }
   ],
   "source": [
    "plot_kNN(abalone_y_test, y_pred_kNN_CVGS_test_inv)"
   ]
  },
  {
   "cell_type": "markdown",
   "id": "5d854ceb",
   "metadata": {},
   "source": [
    "Eğitim seti tahminleri için RMSE ve $R^2$ değerlerinde bakalım.   \n",
    "RMSE, değeri oldukça düşüktür. Model uyumludur.\n",
    "$R^2$ değeri mükemmeldir. İlişkinin yaklaşık olarak %100'ünü açıklayabilmektedir.  \n",
    "Eğitim seti olduğu için bu duruma iyi diyemeyiz overfit durumu olması söz konusudur."
   ]
  },
  {
   "cell_type": "code",
   "execution_count": 316,
   "id": "d7a79d91",
   "metadata": {},
   "outputs": [
    {
     "data": {
      "text/plain": [
       "5.5403047620910447e-17"
      ]
     },
     "execution_count": 316,
     "metadata": {},
     "output_type": "execute_result"
    }
   ],
   "source": [
    "kNN_CVGS_RMSE_train = RMSE(abalone_y_train, y_pred_kNN_CVGS_train_inv)\n",
    "kNN_CVGS_RMSE_train"
   ]
  },
  {
   "cell_type": "code",
   "execution_count": 317,
   "id": "a125a5c1",
   "metadata": {},
   "outputs": [
    {
     "data": {
      "text/plain": [
       "1.0"
      ]
     },
     "execution_count": 317,
     "metadata": {},
     "output_type": "execute_result"
    }
   ],
   "source": [
    "kNN_CVGS_R2_train = r2_score(abalone_y_train, y_pred_kNN_CVGS_train_inv)\n",
    "kNN_CVGS_R2_train"
   ]
  },
  {
   "cell_type": "markdown",
   "id": "de4f4234",
   "metadata": {},
   "source": [
    "Test seti tahminleri için RMSE ve $R^2$ değerlerinde bakalım. \n",
    "RMSE değeri parametre ayarı yapılmadan önceki halinden daha düşüktür.  \n",
    "$R^2$ değeri parametre ayarı yapılmadan önceki halinden daha yüksektir fakat diğer modellere kıyasla performansı düşüktür."
   ]
  },
  {
   "cell_type": "code",
   "execution_count": 318,
   "id": "b1bf02f8",
   "metadata": {},
   "outputs": [
    {
     "data": {
      "text/plain": [
       "2.212777534956045"
      ]
     },
     "execution_count": 318,
     "metadata": {},
     "output_type": "execute_result"
    }
   ],
   "source": [
    "kNN_CVGS_RMSE_test = RMSE(abalone_y_test, y_pred_kNN_CVGS_test_inv)\n",
    "kNN_CVGS_RMSE_test"
   ]
  },
  {
   "cell_type": "code",
   "execution_count": 319,
   "id": "518d29a5",
   "metadata": {},
   "outputs": [
    {
     "data": {
      "text/plain": [
       "0.5146377835555165"
      ]
     },
     "execution_count": 319,
     "metadata": {},
     "output_type": "execute_result"
    }
   ],
   "source": [
    "kNN_CVGS_R2_test = r2_score(abalone_y_test, y_pred_kNN_CVGS_test_inv)\n",
    "kNN_CVGS_R2_test"
   ]
  },
  {
   "cell_type": "markdown",
   "id": "3e1b8113",
   "metadata": {},
   "source": [
    "Test seti sonuçlarına bakacak olursak en başarılı model, tune edilmemiş Çok Katmanlı Algılaycı(MLP) regresyon modelidir. Tune edildiğinde çok daha az iterasyonla yakın bir sonuca ulaşılabilir."
   ]
  }
 ],
 "metadata": {
  "kernelspec": {
   "display_name": "Python 3 (ipykernel)",
   "language": "python",
   "name": "python3"
  },
  "language_info": {
   "codemirror_mode": {
    "name": "ipython",
    "version": 3
   },
   "file_extension": ".py",
   "mimetype": "text/x-python",
   "name": "python",
   "nbconvert_exporter": "python",
   "pygments_lexer": "ipython3",
   "version": "3.12.3"
  }
 },
 "nbformat": 4,
 "nbformat_minor": 5
}
